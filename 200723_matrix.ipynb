{
  "nbformat": 4,
  "nbformat_minor": 0,
  "metadata": {
    "kernelspec": {
      "display_name": "Python 3",
      "language": "python",
      "name": "python3"
    },
    "language_info": {
      "codemirror_mode": {
        "name": "ipython",
        "version": 3
      },
      "file_extension": ".py",
      "mimetype": "text/x-python",
      "name": "python",
      "nbconvert_exporter": "python",
      "pygments_lexer": "ipython3",
      "version": "3.5.4"
    },
    "colab": {
      "name": "200723-matrix.ipynb",
      "provenance": [],
      "collapsed_sections": [],
      "include_colab_link": true
    }
  },
  "cells": [
    {
      "cell_type": "markdown",
      "metadata": {
        "id": "view-in-github",
        "colab_type": "text"
      },
      "source": [
        "<a href=\"https://colab.research.google.com/github/taji99/python_basic/blob/master/200723_matrix.ipynb\" target=\"_parent\"><img src=\"https://colab.research.google.com/assets/colab-badge.svg\" alt=\"Open In Colab\"/></a>"
      ]
    },
    {
      "cell_type": "markdown",
      "metadata": {
        "id": "jMeRz9c4PrCQ",
        "colab_type": "text"
      },
      "source": [
        "# 行列と行列積\n",
        "線形代数は、ベクトルや行列などを扱う数学の分野の一つです。  \n",
        "ディープラーニングでは多くの数値を扱う必要があるのですが、線形代数を用いれば多くの数値に対する処理を簡潔な数式で記述することができます。  \n",
        "そして、その数式はNumpyでコードに落とし込むことができます。  \n",
        "今回は、その初歩として、主に行列と行列積について学びます。"
      ]
    },
    {
      "cell_type": "markdown",
      "metadata": {
        "id": "lW9075EQPrCR",
        "colab_type": "text"
      },
      "source": [
        "## ●スカラー\n",
        "\n",
        "スカラー（scalar）は1、5、1.2、-7などの通常の数値のことです。  \n",
        "本講座では、数式におけるアルファベット、もしくはギリシャ文字の小文字はスカラーを表すものとします。（例: $a$、$p$、$\\alpha$、$\\gamma$） "
      ]
    },
    {
      "cell_type": "markdown",
      "metadata": {
        "id": "8gl5owlAPrCS",
        "colab_type": "text"
      },
      "source": [
        "Pythonで扱う通常の数値は、このスカラーに対応します。  \n",
        "以下はコード上におけるスカラーの例です。"
      ]
    },
    {
      "cell_type": "code",
      "metadata": {
        "id": "Z9WKDO6lPrCT",
        "colab_type": "code",
        "colab": {}
      },
      "source": [
        "a = 1\n",
        "b = 1.2\n",
        "c = -0.25\n",
        "d = 1.2e5  # 1.2x10の5乗 120000"
      ],
      "execution_count": 1,
      "outputs": []
    },
    {
      "cell_type": "markdown",
      "metadata": {
        "id": "qjOTgJ_5PrCW",
        "colab_type": "text"
      },
      "source": [
        "## ●ベクトル\n",
        "\n",
        "ベクトルは、スカラーを直線上に並べたものです。  \n",
        "本コースにおける数式では、アルファベットの小文字に矢印を乗せたものでベクトルを表します。  \n",
        "以下はベクトルの表記の例です。\n",
        "\n",
        "$$ \\begin{aligned}\n",
        "\\vec{a} & = \\left(\n",
        "    \\begin{array}{c}\n",
        "      1 \\\\\n",
        "      2 \\\\\n",
        "      3\n",
        "    \\end{array}\n",
        " \\right) \\\\\n",
        " \\vec{b} & = (-2.3, 0.25, -1.2, 1.8, 0.41) \\\\\n",
        " \\vec{p} & = \\left(\n",
        "    \\begin{array}{c}\n",
        "      p_1 \\\\\n",
        "      p_2 \\\\\n",
        "      \\vdots \\\\\n",
        "      p_m\n",
        "    \\end{array}\n",
        " \\right) \\\\\n",
        "\\vec{q} & = (q_1, q_2, \\cdots, q_n)\n",
        "\\end{aligned} $$"
      ]
    },
    {
      "cell_type": "markdown",
      "metadata": {
        "id": "nAO94j77PrCW",
        "colab_type": "text"
      },
      "source": [
        "ベクトルには、上記の$\\vec{a}$、$\\vec{p}$のように縦に数値を並べる縦ベクトルと、$\\vec{b}$、$\\vec{q}$のように横に数値を並べる横ベクトルがあります。"
      ]
    },
    {
      "cell_type": "markdown",
      "metadata": {
        "id": "jxDFw-itPrCX",
        "colab_type": "text"
      },
      "source": [
        "ベクトルは、Numpyの1次元配列を用いて以下のように表すことができます。"
      ]
    },
    {
      "cell_type": "code",
      "metadata": {
        "id": "4Ut8WhmvPrCY",
        "colab_type": "code",
        "colab": {
          "base_uri": "https://localhost:8080/",
          "height": 51
        },
        "outputId": "35b81f93-d316-4712-efcd-50eb00c9f381"
      },
      "source": [
        "import numpy as np\n",
        "\n",
        "a = np.array([1, 2, 3])\n",
        "print(a)\n",
        "\n",
        "b = np.array([-2.3, 0.25, -1.2, 1.8, 0.41])\n",
        "print(b)"
      ],
      "execution_count": 2,
      "outputs": [
        {
          "output_type": "stream",
          "text": [
            "[1 2 3]\n",
            "[-2.3   0.25 -1.2   1.8   0.41]\n"
          ],
          "name": "stdout"
        }
      ]
    },
    {
      "cell_type": "markdown",
      "metadata": {
        "id": "CKzUIHiuPrCa",
        "colab_type": "text"
      },
      "source": [
        "## ●行列\n",
        "\n",
        "行列はスカラーを格子状に並べたもので、例えば以下のように表記します。\n",
        "\n",
        "$$\n",
        "   \\left(\n",
        "    \\begin{array}{cccc}\n",
        "      0.12 & -0.34 & 1.3 & 0.81 \\\\\n",
        "      -1.4 & 0.25 & 0.69 & -0.41 \\\\\n",
        "      0.25 & -1.5 & -0.15 & 1.1 \\\\\n",
        "    \\end{array}\n",
        "  \\right)\n",
        "$$\n",
        "\n",
        "行列において、水平方向のスカラーの並びを**行**、垂直方向のスカラーの並びを**列**といいます。  \n",
        "\n",
        "行は、上から1行目、2行目、3行目...と数えます。  \n",
        "列は、左から1列目、2列目、3列目...と数えます。  \n",
        "また、行がm個、列がn個並んでいる行列を、m x nの行列と表現します。  \n",
        "従って、上の図の行列は、3x4の行列になります。  \n",
        "\n",
        "なお、縦ベクトルは列の数が1の行列と、横ベクトルは行の数が1の行列と考えることもできます。   \n",
        "\n",
        "本講座における数式では、アルファベット大文字のイタリックで行列を表します。以下は行列の表記の例です。  \n",
        "\n",
        "$$\n",
        "   A = \\left(\n",
        "    \\begin{array}{cccc}\n",
        "      0 & 1 & 2 \\\\\n",
        "      3 & 4 & 5 \\\\\n",
        "    \\end{array}\n",
        "  \\right)\n",
        "$$\n",
        "$$\n",
        "   P = \\left(\n",
        "    \\begin{array}{cccc}\n",
        "      p_{11} & p_{12} & \\ldots & p_{1n} \\\\\n",
        "      p_{21} & p_{22} & \\ldots & p_{2n} \\\\\n",
        "      \\vdots & \\vdots & \\ddots & \\vdots \\\\\n",
        "      p_{m1} & p_{m2} & \\ldots & p_{mn} \\\\\n",
        "    \\end{array}\n",
        "  \\right) \n",
        "$$\n",
        "\n",
        "行列$A$は2x3の行列で、行列$P$はm x nの行列です。  \n",
        "また、$P$に見られるように、行列の要素を変数で表す際の添字の数は2つです。    "
      ]
    },
    {
      "cell_type": "markdown",
      "metadata": {
        "id": "XMW6wCFfPrCb",
        "colab_type": "text"
      },
      "source": [
        "Numpyの2次元配列を用いると、例えば以下のように行列を表現することができます。  "
      ]
    },
    {
      "cell_type": "code",
      "metadata": {
        "id": "L8UlwfD9PrCb",
        "colab_type": "code",
        "colab": {
          "base_uri": "https://localhost:8080/",
          "height": 102
        },
        "outputId": "bed7e1ed-00e9-4864-bca1-86c26d41fe20"
      },
      "source": [
        "import numpy as np\n",
        "\n",
        "a = np.array([[1, 2, 3],\n",
        "              [4, 5, 6]])  # 2x3の行列\n",
        "print(a)\n",
        "\n",
        "b = np.array([[0.21, 0.14],\n",
        "              [-1.3, 0.81],\n",
        "              [0.12, -2.1]])  # 3x2の行列\n",
        "print(b)"
      ],
      "execution_count": 3,
      "outputs": [
        {
          "output_type": "stream",
          "text": [
            "[[1 2 3]\n",
            " [4 5 6]]\n",
            "[[ 0.21  0.14]\n",
            " [-1.3   0.81]\n",
            " [ 0.12 -2.1 ]]\n"
          ],
          "name": "stdout"
        }
      ]
    },
    {
      "cell_type": "markdown",
      "metadata": {
        "id": "Bms8Cnk0PrCh",
        "colab_type": "text"
      },
      "source": [
        "## ●行列の積"
      ]
    },
    {
      "cell_type": "markdown",
      "metadata": {
        "id": "9deiVBRNPrCi",
        "colab_type": "text"
      },
      "source": [
        "行列積では、前の行列における行の各要素と、後の行列における列の各要素を掛け合わせて総和をとり、新しい行列の要素とします。  \n",
        "\n",
        "行列積の例を見ていきましょう。  \n",
        "まず、行列$A$と$B$を次のように設定します。  \n",
        "\n",
        "$$\n",
        "   A = \\left(\n",
        "    \\begin{array}{ccc}\n",
        "      a_{11} & a_{12} & a_{13} \\\\\n",
        "      a_{21} & a_{22} & a_{23} \\\\\n",
        "    \\end{array}\n",
        "  \\right)\n",
        "$$ \n",
        "\n",
        "$$ \n",
        "   B = \\left(\n",
        "    \\begin{array}{cc}\n",
        "      b_{11} & b_{12} \\\\\n",
        "      b_{21} & b_{22} \\\\\n",
        "      b_{31} & b_{32} \\\\\n",
        "    \\end{array}\n",
        "  \\right)\n",
        "$$ \n",
        "\n",
        "$A$は2x3の行列で、$B$は3x2の行列です。  \n",
        "そして、$A$と$B$の積を次のように表します。\n",
        "\n",
        "$$ \n",
        "   AB = \\left(\n",
        "    \\begin{array}{ccc}\n",
        "      a_{11} & a_{12} & a_{13} \\\\\n",
        "      a_{21} & a_{22} & a_{23} \\\\\n",
        "    \\end{array}\n",
        "  \\right) \n",
        "  \\left(\n",
        "    \\begin{array}{cc}\n",
        "      b_{11} & b_{12} \\\\\n",
        "      b_{21} & b_{22} \\\\\n",
        "      b_{31} & b_{32} \\\\\n",
        "    \\end{array}\n",
        "  \\right) \\\\\n",
        " = \\left(\n",
        "    \\begin{array}{ccc}\n",
        "      a_{11}b_{11}+a_{12}b_{21}+a_{13}b_{31} & a_{11}b_{12}+a_{12}b_{22}+a_{13}b_{32} \\\\\n",
        "      a_{21}b_{11}+a_{22}b_{21}+a_{23}b_{31} & a_{21}b_{12}+a_{22}b_{22}+a_{23}b_{32} \\\\\n",
        "    \\end{array}\n",
        "  \\right) \\\\\n",
        " = \\left(\n",
        "    \\begin{array}{ccc}\n",
        "      \\sum\\limits_{k=1}^3 a_{1k}b_{k1} & \\sum\\limits_{k=1}^3 a_{1k}b_{k2} \\\\\n",
        "      \\sum\\limits_{k=1}^3 a_{2k}b_{k1} & \\sum\\limits_{k=1}^3 a_{2k}b_{k2} \\\\\n",
        "    \\end{array}\n",
        "  \\right)\n",
        "$$ \n",
        "\n",
        "$A$の各行と$B$の各列の各要素を掛け合わせて総和をとり、新しい行列の各要素とします。  \n",
        "上記の行列積には総和の記号$\\Sigma$が登場していますが、行列積は積の総和を計算する際に大活躍します。  \n",
        "人工知能では積の総和を頻繁に計算するので、行列積は欠くことができません。 "
      ]
    },
    {
      "cell_type": "markdown",
      "metadata": {
        "id": "fO7ZX-xSPrCi",
        "colab_type": "text"
      },
      "source": [
        "それでは、試しに数値計算をしてみましょう。以下の行列$A$、$B$を考えます。\n",
        "\n",
        "$$\n",
        "   A  = \\left(\n",
        "    \\begin{array}{ccc}\n",
        "      0 & 1 & 2 \\\\\n",
        "      1 & 2 & 3 \\\\\n",
        "    \\end{array}\n",
        "  \\right) \\\\\n",
        "   B  = \\left(\n",
        "    \\begin{array}{cc}\n",
        "      2 & 1 \\\\\n",
        "      2 & 1 \\\\\n",
        "      2 & 1 \\\\\n",
        "    \\end{array}\n",
        "  \\right) \\\\\n",
        "$$ \n",
        "\n",
        "これらの行列の行列積は、以下の通りに計算できます。\n",
        "\n",
        "$$\n",
        "AB = \\left(\n",
        "    \\begin{array}{ccc}\n",
        "      0 & 1 & 2 \\\\\n",
        "      1 & 2 & 3 \\\\\n",
        "    \\end{array}\n",
        "  \\right) \n",
        "  \\left(\n",
        "    \\begin{array}{cc}\n",
        "      2 & 1 \\\\\n",
        "      2 & 1 \\\\\n",
        "      2 & 1 \\\\\n",
        "    \\end{array}\n",
        "  \\right) \\\\\n",
        "= \\left(\n",
        "    \\begin{array}{ccc}\n",
        "      0\\times 2+1\\times 2+2\\times 2 & 0\\times 1+1\\times 1+2\\times 1 \\\\\n",
        "      1\\times 2+2\\times 2+3\\times 2 & 1\\times 1+2\\times 1+3\\times 1 \\\\\n",
        "    \\end{array}\n",
        "  \\right) \\\\\n",
        "= \\left(\n",
        "    \\begin{array}{ccc}\n",
        "      6 & 3 \\\\\n",
        "      12 & 6 \\\\\n",
        "    \\end{array}\n",
        "  \\right)\n",
        "$$ \n",
        "\n",
        "スカラーの積と異なり、行列積においては、前の行列と後ろの行列の交換は特定の条件を除きできません。  \n",
        "そして、行列積を計算するためには、前の行列の列数と、後ろの行列の行数が一致していなければいけません。  \n",
        "例えば、前の行列の列数が3であれば、後ろの行列の行数は3である必要があります。 "
      ]
    },
    {
      "cell_type": "markdown",
      "metadata": {
        "id": "jQks5a79PrCj",
        "colab_type": "text"
      },
      "source": [
        "行列積は、総和を使ってより一般的な形で記述することができます。  \n",
        "以下は、l x mの行列$A$と、m x nの行列$B$の行列積です。\n",
        "\n",
        "$$  \\begin{aligned} \\\\\n",
        "AB & = \\left(\n",
        "    \\begin{array}{cc}\n",
        "      a_{11} & a_{12} & \\ldots & a_{1m} \\\\\n",
        "      a_{21} & a_{22} & \\ldots & a_{2m} \\\\\n",
        "      \\vdots & \\vdots & \\ddots & \\vdots \\\\\n",
        "      a_{l1} & a_{l2} & \\ldots & a_{lm} \\\\\n",
        "    \\end{array}\n",
        "  \\right)\n",
        "\\left(\n",
        "    \\begin{array}{cccc}\n",
        "      b_{11} & b_{12} & \\ldots & b_{1n} \\\\\n",
        "      b_{21} & b_{22} & \\ldots & b_{2n} \\\\\n",
        "      \\vdots & \\vdots & \\ddots & \\vdots \\\\\n",
        "      b_{m1} & b_{m2} & \\ldots & b_{mn} \\\\\n",
        "    \\end{array}\n",
        "  \\right) \\\\\n",
        "  & = \\left(\n",
        "    \\begin{array}{cccc}\n",
        "      \\sum\\limits_{k=1}^m a_{1k}b_{k1} & \\sum\\limits_{k=1}^m a_{1k}b_{k2} & \\ldots & \\sum\\limits_{k=1}^m a_{1k}b_{kn} \\\\\n",
        "       \\sum\\limits_{k=1}^m a_{2k}b_{k1} & \\sum\\limits_{k=1}^m a_{2k}b_{k2} & \\ldots & \\sum\\limits_{k=1}^m a_{2k}b_{kn} \\\\\n",
        "      \\vdots & \\vdots & \\ddots & \\vdots \\\\\n",
        "      \\sum\\limits_{k=1}^m a_{lk}b_{k1} & \\sum\\limits_{k=1}^m a_{lk}b_{k2} & \\ldots & \\sum\\limits_{k=1}^m a_{lk}b_{kn} \\\\\n",
        "    \\end{array}\n",
        "  \\right)\n",
        "  \\end{aligned}\n",
        "$$"
      ]
    },
    {
      "cell_type": "markdown",
      "metadata": {
        "id": "-3KWX_KBPrCj",
        "colab_type": "text"
      },
      "source": [
        "行列積を全ての行と列の組み合わせで計算するのは大変ですが、Numpyのdot関数を用いれば、簡単に行列積を計算することができます。  "
      ]
    },
    {
      "cell_type": "code",
      "metadata": {
        "id": "sPxSSpoFPrCk",
        "colab_type": "code",
        "colab": {
          "base_uri": "https://localhost:8080/",
          "height": 51
        },
        "outputId": "152024fd-4954-4791-a450-656811a689fb"
      },
      "source": [
        "import numpy as np\n",
        "\n",
        "a = np.array([[0, 1, 2],\n",
        "              [1, 2, 3]]) \n",
        "b = np.array([[2, 1],\n",
        "              [2, 1],\n",
        "              [2, 1]]) \n",
        "\n",
        "print(np.dot(a, b))"
      ],
      "execution_count": 4,
      "outputs": [
        {
          "output_type": "stream",
          "text": [
            "[[ 6  3]\n",
            " [12  6]]\n"
          ],
          "name": "stdout"
        }
      ]
    },
    {
      "cell_type": "markdown",
      "metadata": {
        "id": "XcJZMDbBPrCm",
        "colab_type": "text"
      },
      "source": [
        "## ●要素ごとの積（アダマール積）\n",
        "\n",
        "行列の要素ごとの積は、アダマール積とも呼ばれており、行列の各要素を掛け合わせます。  \n",
        "以下の行列$A$、$B$を考えましょう。\n",
        "\n",
        "$$  \\begin{aligned} \\\\\n",
        "   A & = \\left(\n",
        "    \\begin{array}{cccc}\n",
        "      a_{11} & a_{12} & \\ldots & a_{1n} \\\\\n",
        "      a_{21} & a_{22} & \\ldots & a_{2n} \\\\\n",
        "      \\vdots & \\vdots & \\ddots & \\vdots \\\\\n",
        "      a_{m1} & a_{m2} & \\ldots & a_{mn}\n",
        "    \\end{array}\n",
        "  \\right) \\\\\n",
        "   B & = \\left(\n",
        "    \\begin{array}{cccc}\n",
        "      b_{11} & b_{12} & \\ldots & b_{1n} \\\\\n",
        "      b_{21} & b_{22} & \\ldots & b_{2n} \\\\\n",
        "      \\vdots & \\vdots & \\ddots & \\vdots \\\\\n",
        "      b_{m1} & b_{m2} & \\ldots & b_{mn}\n",
        "    \\end{array}\n",
        "  \\right)\n",
        "\\end{aligned} $$ \n",
        "\n",
        "これらの行列の要素ごとの積は、演算子$\\circ$を用いて次のように表すことができます。\n",
        "\n",
        "$$\n",
        "   A\\circ B = \\left(\n",
        "    \\begin{array}{cccc}\n",
        "      a_{11}b_{11} & a_{12}b_{12} & \\ldots & a_{1n}b_{1n} \\\\\n",
        "      a_{21}b_{21} & a_{22}b_{22} & \\ldots & a_{2n}b_{2n} \\\\\n",
        "      \\vdots & \\vdots & \\ddots & \\vdots \\\\\n",
        "      a_{m1}b_{m1} & a_{m2}b_{m2} & \\ldots & a_{mn}b_{mn}\n",
        "    \\end{array}\n",
        "  \\right)\n",
        "$$\n",
        "\n",
        "例えば次ような場合、\n",
        "\n",
        "$$ \\begin{aligned} \\\\\n",
        "   A  & = \\left(\n",
        "    \\begin{array}{ccc}\n",
        "      0 & 1 & 2 \\\\\n",
        "      3 & 4 & 5 \\\\\n",
        "      6 & 7 & 8\n",
        "    \\end{array}\n",
        "  \\right) \\\\\n",
        "  B  & = \\left(\n",
        "    \\begin{array}{ccc}\n",
        "      0 & 1 & 2 \\\\\n",
        "      2 & 0 & 1 \\\\\n",
        "      1 & 2 & 0\n",
        "    \\end{array}\n",
        "  \\right)\n",
        "\\end{aligned}\n",
        "$$\n",
        "\n",
        "$A$と$B$の要素ごとの積は次のようになります。\n",
        "\n",
        "$$ \\begin{aligned} \\\\\n",
        "  A\\circ B  & = \\left(\n",
        "    \\begin{array}{ccc}\n",
        "      0\\times 0 & 1\\times 1 & 2\\times 2 \\\\\n",
        "      3\\times 2 & 4\\times 0 & 5\\times 1 \\\\\n",
        "      6\\times 1 & 7\\times 2 & 8\\times 0\n",
        "    \\end{array}\n",
        "  \\right) \\\\\n",
        "  & = \\left(\n",
        "    \\begin{array}{ccc}\n",
        "      0 & 1 & 4 \\\\\n",
        "      6 & 0 & 5 \\\\\n",
        "      6 & 14 & 0\n",
        "    \\end{array}\n",
        "  \\right)\n",
        "\\end{aligned}\n",
        "$$"
      ]
    },
    {
      "cell_type": "markdown",
      "metadata": {
        "id": "VS-thXjYPrCm",
        "colab_type": "text"
      },
      "source": [
        "要素ごとの積を、Numpyを用いて実装すると、以下のセルのようになります。  \n",
        "要素ごとの演算にはスカラーの積の演算子`*`を使います。  "
      ]
    },
    {
      "cell_type": "code",
      "metadata": {
        "id": "2PypahNrPrCn",
        "colab_type": "code",
        "colab": {
          "base_uri": "https://localhost:8080/",
          "height": 68
        },
        "outputId": "904ea1ab-2719-4e92-aae6-7585b23fb8c2"
      },
      "source": [
        "import numpy as np\n",
        "\n",
        "a = np.array([[0, 1, 2],\n",
        "              [3, 4, 5],\n",
        "              [6, 7, 8]]) \n",
        "b = np.array([[0, 1, 2],\n",
        "              [2, 0, 1],\n",
        "              [1, 2, 0]]) \n",
        "\n",
        "print(a*b)"
      ],
      "execution_count": 5,
      "outputs": [
        {
          "output_type": "stream",
          "text": [
            "[[ 0  1  4]\n",
            " [ 6  0  5]\n",
            " [ 6 14  0]]\n"
          ],
          "name": "stdout"
        }
      ]
    },
    {
      "cell_type": "markdown",
      "metadata": {
        "id": "UF6puu7NPrCp",
        "colab_type": "text"
      },
      "source": [
        "要素ごとの積を計算するためには、配列の形状が同じである必要があります。  \n",
        "要素ごとの和には`+`、要素ごとの差には`-`、要素ごとの割り算には`/`を使います。"
      ]
    },
    {
      "cell_type": "markdown",
      "metadata": {
        "id": "1VPGADXhPrCp",
        "colab_type": "text"
      },
      "source": [
        "## ●転置"
      ]
    },
    {
      "cell_type": "markdown",
      "metadata": {
        "id": "F_YlzWMzPrCq",
        "colab_type": "text"
      },
      "source": [
        "行列に対する重要な操作に、**転置**というものがあります。行列を転置することにより、行と列が入れ替わります。以下は転置の例ですが、例えば行列$A$の転置行列は$A^{\\mathrm{T}}$と表します。  \n",
        "\n",
        "$$  \\begin{aligned} \\\\\n",
        "   A & = \\left(\n",
        "    \\begin{array}{ccc}\n",
        "      1 & 2 & 3 \\\\\n",
        "      4 & 5 & 6 \\\\\n",
        "    \\end{array}\n",
        "  \\right) \\\\\n",
        "   A^{\\mathrm{T}} & = \\left(\n",
        "    \\begin{array}{cc}\n",
        "      1 & 4 \\\\\n",
        "      2 & 5 \\\\\n",
        "      3 & 6 \\\\\n",
        "    \\end{array}\n",
        "  \\right) \\\\\n",
        "\\end{aligned} $$ \n",
        "\n",
        "$$  \\begin{aligned} \\\\\n",
        "   B & = \\left(\n",
        "    \\begin{array}{cc}\n",
        "      a & b \\\\\n",
        "      c & d \\\\\n",
        "      e & f \\\\\n",
        "    \\end{array}\n",
        "  \\right) \\\\\n",
        "   B^{\\mathrm{T}} & = \\left(\n",
        "    \\begin{array}{ccc}\n",
        "      a & c & e \\\\\n",
        "      b & d & f \\\\\n",
        "    \\end{array}\n",
        "  \\right) \\\\\n",
        "\\end{aligned} $$ "
      ]
    },
    {
      "cell_type": "markdown",
      "metadata": {
        "id": "bRB5IuCCPrCq",
        "colab_type": "text"
      },
      "source": [
        "Numpyにおいては、行列を表す配列名の後に`.T`を付けると転置されます。"
      ]
    },
    {
      "cell_type": "code",
      "metadata": {
        "id": "VW4SbLi7PrCr",
        "colab_type": "code",
        "colab": {
          "base_uri": "https://localhost:8080/",
          "height": 68
        },
        "outputId": "5477555f-e8c1-4786-a5a1-d11112c9abc9"
      },
      "source": [
        "import numpy as np\n",
        "\n",
        "a = np.array([[1, 2, 3],\n",
        "              [4, 5, 6]])\n",
        "print(a.T)  # 転置"
      ],
      "execution_count": 6,
      "outputs": [
        {
          "output_type": "stream",
          "text": [
            "[[1 4]\n",
            " [2 5]\n",
            " [3 6]]\n"
          ],
          "name": "stdout"
        }
      ]
    }
  ]
}