{
  "nbformat": 4,
  "nbformat_minor": 0,
  "metadata": {
    "kernelspec": {
      "display_name": "Python 3",
      "language": "python",
      "name": "python3"
    },
    "language_info": {
      "codemirror_mode": {
        "name": "ipython",
        "version": 3
      },
      "file_extension": ".py",
      "mimetype": "text/x-python",
      "name": "python",
      "nbconvert_exporter": "python",
      "pygments_lexer": "ipython3",
      "version": "3.5.4"
    },
    "colab": {
      "name": "200721-python_basic_1.ipynb",
      "provenance": [],
      "collapsed_sections": [],
      "include_colab_link": true
    }
  },
  "cells": [
    {
      "cell_type": "markdown",
      "metadata": {
        "id": "view-in-github",
        "colab_type": "text"
      },
      "source": [
        "<a href=\"https://colab.research.google.com/github/taji99/Colab_sample/blob/master/200721_python_basic_1.ipynb\" target=\"_parent\"><img src=\"https://colab.research.google.com/assets/colab-badge.svg\" alt=\"Open In Colab\"/></a>"
      ]
    },
    {
      "cell_type": "markdown",
      "metadata": {
        "id": "QK1qtAbx7DCH",
        "colab_type": "text"
      },
      "source": [
        "# Pythonの基礎1\n",
        "本セクションでは、Pythonの文法について解説します。  \n",
        "コースにおけるPythonの解説は、本コースに必要な範囲に絞っています。  \n",
        "Pythonの文法についてさらに詳しく知りたい方は、他のコースや書籍などを参考にしてください。"
      ]
    },
    {
      "cell_type": "markdown",
      "metadata": {
        "id": "ofKdJbhN7DCI",
        "colab_type": "text"
      },
      "source": [
        "## ●変数と型\n",
        "Pythonでは、変数を使用する前に何らかの記述をする必要ありません。  \n",
        "以下のように、値を代入するところから記述を始めることができます。  "
      ]
    },
    {
      "cell_type": "code",
      "metadata": {
        "id": "h7HH2NJB7DCJ",
        "colab_type": "code",
        "colab": {}
      },
      "source": [
        "a = 123"
      ],
      "execution_count": 1,
      "outputs": []
    },
    {
      "cell_type": "markdown",
      "metadata": {
        "id": "jd_BuH8D7DCM",
        "colab_type": "text"
      },
      "source": [
        "Pythonは、変数に対して型の明示は不要です。  \n",
        "例えば、整数型の変数に文字列を代入すれば、それは文字列型の変数になります。  \n",
        "Pythonの主な型を以下に示します。"
      ]
    },
    {
      "cell_type": "code",
      "metadata": {
        "id": "C0gx76OP7DCN",
        "colab_type": "code",
        "colab": {}
      },
      "source": [
        "a = 123             # 整数型（int）\n",
        "b = 123.456         # 浮動小数点型（float）\n",
        "c = \"Hello World!\"  # 文字列型（str）\n",
        "d = True            # 論理型（bool）\n",
        "e = [1, 2, 3]       # リスト型（list）"
      ],
      "execution_count": 2,
      "outputs": []
    },
    {
      "cell_type": "markdown",
      "metadata": {
        "id": "eJckxxVj7DCP",
        "colab_type": "text"
      },
      "source": [
        "\\#はコメントを表し、同じ行のそれ以降はコードとして認識されることはありません。\n",
        "\n",
        "また、bool型の値は数値として扱うことができます。  \n",
        "`True`は1で`False`は0として扱われます。  \n",
        "以下の例では、`True`と`False`を足していますが、結果は0と1の和の1になります。"
      ]
    },
    {
      "cell_type": "code",
      "metadata": {
        "id": "RlCGnHGH7DCP",
        "colab_type": "code",
        "colab": {
          "base_uri": "https://localhost:8080/",
          "height": 34
        },
        "outputId": "cbf1a3c7-c274-452c-b199-d411dd250782"
      },
      "source": [
        "a = True; b = False\n",
        "print(a+b)"
      ],
      "execution_count": 4,
      "outputs": [
        {
          "output_type": "stream",
          "text": [
            "1\n"
          ],
          "name": "stdout"
        }
      ]
    },
    {
      "cell_type": "markdown",
      "metadata": {
        "id": "TL8PNWR07DCR",
        "colab_type": "text"
      },
      "source": [
        "Pythonでは、上記のように`;`（セミコロン）で区切ることで、一行内に複数の処理を書くことができます。 \n",
        "\n",
        "また、浮動小数点型の値は指数表記が可能です。以下のように`e`を用いて小数を表記することができます。"
      ]
    },
    {
      "cell_type": "code",
      "metadata": {
        "id": "evGs7Cue7DCS",
        "colab_type": "code",
        "colab": {
          "base_uri": "https://localhost:8080/",
          "height": 34
        },
        "outputId": "99608d12-95a8-4a5d-ed4e-da6bfe36fabe"
      },
      "source": [
        "1.2e5   # 1.2x10の5乗 120000\n",
        "1.2e-5  # 1.2x10の-5乗 0.000012"
      ],
      "execution_count": 5,
      "outputs": [
        {
          "output_type": "execute_result",
          "data": {
            "text/plain": [
              "1.2e-05"
            ]
          },
          "metadata": {
            "tags": []
          },
          "execution_count": 5
        }
      ]
    },
    {
      "cell_type": "markdown",
      "metadata": {
        "id": "AioPKJ3q7DCU",
        "colab_type": "text"
      },
      "source": [
        "## ●演算子\n",
        "Pythonの演算子を紹介します。"
      ]
    },
    {
      "cell_type": "code",
      "metadata": {
        "id": "hYmGSfid7DCU",
        "colab_type": "code",
        "colab": {
          "base_uri": "https://localhost:8080/",
          "height": 68
        },
        "outputId": "d9da20cf-7976-4584-ef9b-b1bdd8e6f1f9"
      },
      "source": [
        "a = 3; b = 4\n",
        "\n",
        "c = a + b               # 足し算\n",
        "print(c) \n",
        "\n",
        "d = a < b               # 比較（小さいかどうか）\n",
        "print(d)\n",
        "\n",
        "e = 3 < 4 and 4 < 5     # 論理和\n",
        "print(e)"
      ],
      "execution_count": 6,
      "outputs": [
        {
          "output_type": "stream",
          "text": [
            "7\n",
            "True\n",
            "True\n"
          ],
          "name": "stdout"
        }
      ]
    },
    {
      "cell_type": "markdown",
      "metadata": {
        "id": "D4BOaxpW7DCW",
        "colab_type": "text"
      },
      "source": [
        "主な演算子をまとめると以下の通りです。\n",
        "\n",
        "||||\n",
        "|:-:|:-:|:--|\n",
        "|算術演算子| \\+ | 足し算 |\n",
        "||- | 引き算 |\n",
        "|| * | かける |\n",
        "|| / | 割る（小数） |\n",
        "|| // | 割る（整数） |\n",
        "|| % | 余り |\n",
        "|| ** | べき乗 |\n",
        "|比較演算子| < | 小さい |\n",
        "|| > | 大きい |\n",
        "|| <= | 以上 |\n",
        "|| >= | 以下 |\n",
        "|| == | 等しい |\n",
        "|| != | 等しくない |\n",
        "|論理演算子| and | 両者を満たす |\n",
        "|| or | どちらか片方を満たす |\n",
        "|| not | 満たさない |\n",
        "|||| **太字**"
      ]
    },
    {
      "cell_type": "markdown",
      "metadata": {
        "id": "BBT3UlBN7DCX",
        "colab_type": "text"
      },
      "source": [
        "## ●リスト\n",
        "リストは、複数の値をまとめて扱う場合に使用します。  \n",
        "リストは全体を`[]`で囲み、各要素は`,`で区切ります。  \n",
        "Pythonのリストはどのような型の値でも格納することができ、リストの中にリストを格納することもできます。  \n",
        "リストの各要素へのアクセスはインデックスを使い、要素の追加や入れ替えなどが可能です。  "
      ]
    },
    {
      "cell_type": "code",
      "metadata": {
        "id": "Qi_hyR077DCY",
        "colab_type": "code",
        "colab": {
          "base_uri": "https://localhost:8080/",
          "height": 68
        },
        "outputId": "5101adff-577e-43e0-88e1-c5ba9e94da61"
      },
      "source": [
        "a = [1, 2, 3, 4, 5]     # リストの作成\n",
        "\n",
        "b = a[2]                # 3番目の要素を取得\n",
        "print(b)\n",
        "\n",
        "a.append(6)             # 末尾に要素を追加する\n",
        "print(a)\n",
        "\n",
        "a[2] = 7                # 要素の入れ替え\n",
        "print(a)"
      ],
      "execution_count": 7,
      "outputs": [
        {
          "output_type": "stream",
          "text": [
            "3\n",
            "[1, 2, 3, 4, 5, 6]\n",
            "[1, 2, 7, 4, 5, 6]\n"
          ],
          "name": "stdout"
        }
      ]
    },
    {
      "cell_type": "markdown",
      "metadata": {
        "id": "33Tx-KRc7DCZ",
        "colab_type": "text"
      },
      "source": [
        "## ●タプル\n",
        "タプルはリストと同じく複数の値をまとめて扱いたいときに利用しますが、要素の追加や削除、入れ替えなどはできません。  \n",
        "タプルは全体を`()`で囲み、各要素は`,`で区切ります。  \n",
        "要素を変更する予定が無い場合は、リストよりもタプルを使用する方がベターです。  "
      ]
    },
    {
      "cell_type": "code",
      "metadata": {
        "id": "uMW9UFiP7DCa",
        "colab_type": "code",
        "colab": {
          "base_uri": "https://localhost:8080/",
          "height": 34
        },
        "outputId": "3f16cce5-28ca-48d3-a763-c5135bb2d348"
      },
      "source": [
        "a = (1, 2, 3, 4, 5)     # タプルの作成\n",
        "\n",
        "b = a[2]                # 3番目の要素を取得\n",
        "print(b)"
      ],
      "execution_count": 8,
      "outputs": [
        {
          "output_type": "stream",
          "text": [
            "3\n"
          ],
          "name": "stdout"
        }
      ]
    },
    {
      "cell_type": "markdown",
      "metadata": {
        "id": "KrLdlqyL7DCc",
        "colab_type": "text"
      },
      "source": [
        "要素が1つだけのタプルは、以下のように要素の直後に`,`が必要です。"
      ]
    },
    {
      "cell_type": "code",
      "metadata": {
        "id": "yYM0zYcJ7DCc",
        "colab_type": "code",
        "colab": {
          "base_uri": "https://localhost:8080/",
          "height": 34
        },
        "outputId": "06bce300-404a-41ae-8d4e-4b73228bced2"
      },
      "source": [
        "(3,)"
      ],
      "execution_count": 9,
      "outputs": [
        {
          "output_type": "execute_result",
          "data": {
            "text/plain": [
              "(3,)"
            ]
          },
          "metadata": {
            "tags": []
          },
          "execution_count": 9
        }
      ]
    },
    {
      "cell_type": "markdown",
      "metadata": {
        "id": "c-QGdMhd7DCe",
        "colab_type": "text"
      },
      "source": [
        "リストやタプルの要素は、以下のようにしてまとめて変数に代入することが可能です。"
      ]
    },
    {
      "cell_type": "code",
      "metadata": {
        "id": "9RrDK9fF7DCf",
        "colab_type": "code",
        "colab": {
          "base_uri": "https://localhost:8080/",
          "height": 51
        },
        "outputId": "49e6f61b-64df-4d89-e792-c5ec2193d0b9"
      },
      "source": [
        "a = [1, 2, 3]\n",
        "a1, a2, a3 = a\n",
        "print(a1, a2, a3)\n",
        "\n",
        "b = (4, 5, 6)\n",
        "b1, b2, b3 = b\n",
        "print(b1, b2, b3) "
      ],
      "execution_count": 10,
      "outputs": [
        {
          "output_type": "stream",
          "text": [
            "1 2 3\n",
            "4 5 6\n"
          ],
          "name": "stdout"
        }
      ]
    },
    {
      "cell_type": "markdown",
      "metadata": {
        "id": "NkynT8abLLvF",
        "colab_type": "text"
      },
      "source": [
        "## ●辞書\n",
        "辞書は、キーと値の組合せでデータを格納します。　  \n",
        "以下は、Pythonの辞書を扱う例です。  \n",
        "文字列をキーとして辞書を作成し、値の取得や入れ替え、要素の追加を行なっています。"
      ]
    },
    {
      "cell_type": "code",
      "metadata": {
        "id": "_Mrxui8mLQ5P",
        "colab_type": "code",
        "colab": {
          "base_uri": "https://localhost:8080/",
          "height": 68
        },
        "outputId": "2680b4eb-ce9e-45ad-bf12-90d8b2be390d"
      },
      "source": [
        "a = {\"Artificial\":1, \"Intelligence\":2}  # 辞書の作成\n",
        "print(a[\"Artificial\"])   # \"Apple\"のキーを持つ値を取得\n",
        "\n",
        "a[\"Intelligence\"] = 7  # 要素の入れ替え\n",
        "print(a[\"Intelligence\"])\n",
        "\n",
        "a[\"ML\"] = 3  # 要素の追加\n",
        "print(a)"
      ],
      "execution_count": 11,
      "outputs": [
        {
          "output_type": "stream",
          "text": [
            "1\n",
            "7\n",
            "{'Artificial': 1, 'Intelligence': 7, 'ML': 3}\n"
          ],
          "name": "stdout"
        }
      ]
    },
    {
      "cell_type": "markdown",
      "metadata": {
        "id": "G81yoB67NkfO",
        "colab_type": "text"
      },
      "source": [
        "## ●セット  \n",
        "セットはリストと似ていますが、重複した値の要素をもつことができません。  \n",
        "タプルと異なり、要素の追加や削除が可能です。"
      ]
    },
    {
      "cell_type": "code",
      "metadata": {
        "id": "gEUH0JJhOasI",
        "colab_type": "code",
        "colab": {
          "base_uri": "https://localhost:8080/",
          "height": 85
        },
        "outputId": "04d5b7cf-465d-42e4-d42c-3adeb2f601ef"
      },
      "source": [
        "a = [1, 1, 2, 3, 4, 4, 5, 5, 5]  # リスト\n",
        "print(a)\n",
        "\n",
        "b = set(a)  # セットに変換\n",
        "print(b)\n",
        "\n",
        "b.add(6)  # 値を追加\n",
        "print(b)\n",
        "\n",
        "b.remove(3)  # 値を削除\n",
        "print(b)"
      ],
      "execution_count": 12,
      "outputs": [
        {
          "output_type": "stream",
          "text": [
            "[1, 1, 2, 3, 4, 4, 5, 5, 5]\n",
            "{1, 2, 3, 4, 5}\n",
            "{1, 2, 3, 4, 5, 6}\n",
            "{1, 2, 4, 5, 6}\n"
          ],
          "name": "stdout"
        }
      ]
    },
    {
      "cell_type": "markdown",
      "metadata": {
        "id": "vOkphdpi7DCh",
        "colab_type": "text"
      },
      "source": [
        "## ●if文  \n",
        "分岐にはif文を用います。  \n",
        "ifの条件が満たされていなければ、elifの条件が上から順番に判定されます。  \n",
        "これらの条件がすべて満たされていなければ、else内の処理が実行されます。  \n",
        "\n",
        "多くのプログラミング言語では分岐や関数のブロックを表すために{ }を使用しますが、Pythonではブロックの範囲を行頭のインデントで表します。  \n",
        "すなわち、インデントしていない行が出現したら、その直前にブロックは終了していることになります。  \n",
        "インデントには、半角スペース4つを用いることが多いです。"
      ]
    },
    {
      "cell_type": "code",
      "metadata": {
        "id": "mgzqzezO7DCh",
        "colab_type": "code",
        "colab": {
          "base_uri": "https://localhost:8080/",
          "height": 34
        },
        "outputId": "64691125-b074-4088-c3df-9629f0c67b39"
      },
      "source": [
        "a = 7\n",
        "if a < 12:\n",
        "    print(\"Good morning!\")\n",
        "elif a < 17:\n",
        "    print(\"Good afternoon!\")\n",
        "elif a < 21:\n",
        "    print(\"Good evening!\")\n",
        "else:\n",
        "    print(\"Good night!\")"
      ],
      "execution_count": 13,
      "outputs": [
        {
          "output_type": "stream",
          "text": [
            "Good morning!\n"
          ],
          "name": "stdout"
        }
      ]
    },
    {
      "cell_type": "markdown",
      "metadata": {
        "id": "4ikn14Eq7DCj",
        "colab_type": "text"
      },
      "source": [
        "## ●for文\n",
        "指定した回数ループするためにはfor文を用います。  \n",
        "ループする範囲を指定するためには、リストやrangeをin演算子とともに用います。  \n",
        "\n",
        "rangeの使い方は次のとおりです。[ ]で囲まれた引数は省略可能です。\n",
        "\n",
        "```\n",
        "range([開始番号,] 終了番号［, ステップ数])\n",
        "```\n",
        "\n",
        "例えばrange(3)は、0から2までの範囲になります。"
      ]
    },
    {
      "cell_type": "code",
      "metadata": {
        "id": "qf8iaf9V7DCj",
        "colab_type": "code",
        "colab": {
          "base_uri": "https://localhost:8080/",
          "height": 119
        },
        "outputId": "2f859c6f-78db-4bce-fb38-adff371bbcde"
      },
      "source": [
        "for a in [4, 7, 10]:    # リストを使ったループ\n",
        "    print(a)\n",
        "    \n",
        "for a in range(3):      # rangeを使ったループ\n",
        "    print(a)"
      ],
      "execution_count": 14,
      "outputs": [
        {
          "output_type": "stream",
          "text": [
            "4\n",
            "7\n",
            "10\n",
            "0\n",
            "1\n",
            "2\n"
          ],
          "name": "stdout"
        }
      ]
    },
    {
      "cell_type": "markdown",
      "metadata": {
        "id": "FKQ9lg_NFEoJ",
        "colab_type": "text"
      },
      "source": [
        "## ●while文\n",
        "ある条件を満たしている間ループするためには、while文を用います。"
      ]
    },
    {
      "cell_type": "code",
      "metadata": {
        "id": "vFVOuNokFKV3",
        "colab_type": "code",
        "colab": {
          "base_uri": "https://localhost:8080/",
          "height": 68
        },
        "outputId": "9e23cc25-52b7-49b5-8702-8fd4908d5295"
      },
      "source": [
        "a = 0\n",
        "while a < 3:  # aが3より小さい間ループ\n",
        "    print(a)\n",
        "    a += 1"
      ],
      "execution_count": 15,
      "outputs": [
        {
          "output_type": "stream",
          "text": [
            "0\n",
            "1\n",
            "2\n"
          ],
          "name": "stdout"
        }
      ]
    },
    {
      "cell_type": "markdown",
      "metadata": {
        "id": "jdyK90d_GJzn",
        "colab_type": "text"
      },
      "source": [
        "## ●内包表記\n",
        "内容表記は、リストの要素を操作した上で、新しいリストを作成するための記法です。  \n",
        "通常、そのような処理はforやwhileによるループを使用しますが、内包表記を用いると、簡潔に記述することができます。  \n",
        "内包表記は、以下の形式で記述します。  \n",
        "\n",
        "```\n",
        "新たなリスト = [ 要素への処理 for 要素 in リスト]  \n",
        "```\n",
        "\n",
        "リスト内の要素を1つ1つ取り出して、要素への処理を実行した上で新しいリストを作成します。"
      ]
    },
    {
      "cell_type": "code",
      "metadata": {
        "id": "qncEVtHrHNkM",
        "colab_type": "code",
        "colab": {
          "base_uri": "https://localhost:8080/",
          "height": 34
        },
        "outputId": "e9dca8b7-5e88-4b5c-f8a6-f45ed9fab9e0"
      },
      "source": [
        "a = [1, 2, 3, 4, 5, 6]\n",
        "b = [c*3+1 for c in a]    # aの要素を3倍して1を足し新たなリストを作る\n",
        "print(b)"
      ],
      "execution_count": 16,
      "outputs": [
        {
          "output_type": "stream",
          "text": [
            "[4, 7, 10, 13, 16, 19]\n"
          ],
          "name": "stdout"
        }
      ]
    }
  ]
}