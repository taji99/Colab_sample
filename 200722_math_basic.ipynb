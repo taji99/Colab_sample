{
  "nbformat": 4,
  "nbformat_minor": 0,
  "metadata": {
    "kernelspec": {
      "display_name": "Python 3",
      "language": "python",
      "name": "python3"
    },
    "language_info": {
      "codemirror_mode": {
        "name": "ipython",
        "version": 3
      },
      "file_extension": ".py",
      "mimetype": "text/x-python",
      "name": "python",
      "nbconvert_exporter": "python",
      "pygments_lexer": "ipython3",
      "version": "3.5.4"
    },
    "colab": {
      "name": "200722-math_basic.ipynb",
      "provenance": [],
      "collapsed_sections": [],
      "include_colab_link": true
    }
  },
  "cells": [
    {
      "cell_type": "markdown",
      "metadata": {
        "id": "view-in-github",
        "colab_type": "text"
      },
      "source": [
        "<a href=\"https://colab.research.google.com/github/taji99/python_basic/blob/master/200722_math_basic.ipynb\" target=\"_parent\"><img src=\"https://colab.research.google.com/assets/colab-badge.svg\" alt=\"Open In Colab\"/></a>"
      ]
    },
    {
      "cell_type": "markdown",
      "metadata": {
        "id": "-ow4yQdxQLyZ",
        "colab_type": "text"
      },
      "source": [
        "# 数学の基礎  \n",
        "まずは、本セクションを学ぶために必要な数学の基礎を解説します。"
      ]
    },
    {
      "cell_type": "markdown",
      "metadata": {
        "id": "_IjvK0dcQLya",
        "colab_type": "text"
      },
      "source": [
        "## ●シグマ（$\\Sigma$）による総和の表記\n",
        "シグマ（$\\Sigma$）を用いることで、複数の数値の総和を簡潔に表記することができます。  \n",
        "例えば、以下のような$n$個の数値を考えましょう。 \n",
        "\n",
        "$$a_1, a_2, \\cdots a_n $$ \n",
        "\n",
        "これらの総和は、次のように表記することができます。  \n",
        "\n",
        "（式 1）\n",
        "$$a_1 + a_2 + \\cdots + a_n $$\n",
        "\n",
        "しかしながら、毎回このように総和を記述すると数式が読みにくくなります。  \n",
        "そこで、（式 1）を次のように$\\Sigma$を用いて記述します。\n",
        "\n",
        "$$\\sum_{k=1}^n a_k $$ \n",
        "\n",
        "これは、$a_k$の添字$k$が1から$n$まで、すなわち$a_1$から$a_n$までのn個の数値を足し合わせる、という意味になります。  \n",
        "（式 1）と比べて簡潔な表記ですね。  \n",
        "この記法は、Numpyのsum関数を用いることで、次のようにコードとして実装することができます。"
      ]
    },
    {
      "cell_type": "code",
      "metadata": {
        "id": "kcgLoPxGQLyb",
        "colab_type": "code",
        "colab": {
          "base_uri": "https://localhost:8080/",
          "height": 34
        },
        "outputId": "976f8cfc-b8ea-4741-e278-23a9f3149ac9"
      },
      "source": [
        "import numpy as np\n",
        "\n",
        "a = np.array([1, 2, 3, 4, 5])\n",
        "print(np.sum(a))"
      ],
      "execution_count": null,
      "outputs": [
        {
          "output_type": "stream",
          "text": [
            "15\n"
          ],
          "name": "stdout"
        }
      ]
    },
    {
      "cell_type": "markdown",
      "metadata": {
        "id": "c0eY4RLxQLyd",
        "colab_type": "text"
      },
      "source": [
        "なお、総数$n$が明白な場合は、次のように表記を簡略化することもあります。\n",
        "\n",
        "$$\\sum_{k} a_k $$ \n",
        "\n",
        "それでは、もう少し複雑な例を見ていきましょう。  \n",
        "以下では、$\\Sigma$の中に添字$k$が2つあります。\n",
        "\n",
        "（式 2）\n",
        "$$\\sum_{k} a_k b_k$$\n",
        "\n",
        "この場合、$a_k$と$b_k$の積の総和を計算します。  \n",
        "これは、例えば以下のようなコードで実装することができます。"
      ]
    },
    {
      "cell_type": "code",
      "metadata": {
        "id": "GWLn86R2QLye",
        "colab_type": "code",
        "colab": {
          "base_uri": "https://localhost:8080/",
          "height": 34
        },
        "outputId": "81a2149b-735d-4f19-c80b-ff9ca899448c"
      },
      "source": [
        "import numpy as np\n",
        "\n",
        "a = np.array([2, 1, 2, 1, 2])\n",
        "b = np.array([1, 2, 1, 2, 1])\n",
        "\n",
        "print(np.sum(a*b))"
      ],
      "execution_count": null,
      "outputs": [
        {
          "output_type": "stream",
          "text": [
            "10\n"
          ],
          "name": "stdout"
        }
      ]
    },
    {
      "cell_type": "markdown",
      "metadata": {
        "id": "DfzDVL6AQLyg",
        "colab_type": "text"
      },
      "source": [
        "`a`と`b`の各要素の積を計算して、sum関数で総和をとることにより、（式 2）をコードで表現することができます。  \n",
        "以上のように、$\\Sigma$を用いると総和を簡潔に表記することができて、$\\Sigma$を使った式はNumpyで簡単に実装することができます。"
      ]
    },
    {
      "cell_type": "markdown",
      "metadata": {
        "id": "YTE1yfbyQLyg",
        "colab_type": "text"
      },
      "source": [
        "## ●ネイピア数$e$\n",
        "ネイピア数$e$は、数学的にとても便利な性質を持った数です。  \n",
        "ネイピア数の値は、円周率$\\pi$のように無限に桁が続く小数です。\n",
        "\n",
        "$$e = 2.71828 18284 59045 23536 02874 71352 …$$ \n",
        "\n",
        "ネイピア数は、次のような累乗の形でよく用いられます。\n",
        "\n",
        "（式 3）\n",
        "$$ y=e^x $$\n",
        "\n",
        "この式は、微分しても式が変わらないという大変便利な特徴を持っています。  \n",
        "（式 3）は次のように表記することもあります。\n",
        "\n",
        "（式 4）\n",
        "$$ y=\\exp(x) $$\n",
        "\n",
        "この表記は、$( )$の中に多くの記述が必要な場合に便利です。  \n",
        "$e$の右肩に小さな文字で多くの記述があると、式が見づらくなってしまうからです。  \n",
        "（式 4）は、Numpyのexp関数を用いて次のように実装することができます。"
      ]
    },
    {
      "cell_type": "code",
      "metadata": {
        "id": "WAbz2tbMQLyh",
        "colab_type": "code",
        "colab": {
          "base_uri": "https://localhost:8080/",
          "height": 34
        },
        "outputId": "fdd9c20e-7907-4ab1-b649-397a652e8bda"
      },
      "source": [
        "import numpy as np\n",
        "\n",
        "def get_exp(x):\n",
        "    return np.exp(x)\n",
        "    \n",
        "print(get_exp(1))"
      ],
      "execution_count": null,
      "outputs": [
        {
          "output_type": "stream",
          "text": [
            "2.718281828459045\n"
          ],
          "name": "stdout"
        }
      ]
    },
    {
      "cell_type": "markdown",
      "metadata": {
        "id": "7TxNkEF_QLyj",
        "colab_type": "text"
      },
      "source": [
        "$e$の1乗を計算し、ネイピア数を得ることができました。  \n",
        "なお、ネイピア数は`np.e`で得ることもできます。  \n",
        "なお、ネイピア数$e$は、`1.2e5`のようなコード上における小数の表記とは関係ありませんのでご注意ください。"
      ]
    },
    {
      "cell_type": "markdown",
      "metadata": {
        "id": "U87ICnaeQLyj",
        "colab_type": "text"
      },
      "source": [
        "## ●自然対数$\\log$\n",
        "（式 3）、$y=e^x$を、左辺が$x$になるように変形しましょう。  \n",
        "$\\log$の記号を用いて次のよう表記できます。\n",
        "\n",
        "$$ x=\\log_{e}y $$ \n",
        "\n",
        "$x$と$y$を入れ替えましょう。\n",
        "\n",
        "$$ y=\\log_{e}x $$ \n",
        "\n",
        "この式で、$\\log_{e}x$を自然対数と呼びます。  \n",
        "この式では、$e$を$y$乗すると$x$になります。  \n",
        "自然対数は、$e$を何乗したら$x$になるか、を表します。  \n",
        "\n",
        "この表記において、ネイピア数$e$はよく次のように省略されます。\n",
        "\n",
        "（式 5）\n",
        "$$ y=\\log x $$\n",
        "\n",
        "自然対数はきれいに微分することができるので、数学上の扱いが楽です。  \n",
        "（式 5）は、Numpyのlog関数を用いて次のように実装することができます。"
      ]
    },
    {
      "cell_type": "code",
      "metadata": {
        "id": "v_DZKtDfQLyk",
        "colab_type": "code",
        "colab": {}
      },
      "source": [
        "import numpy as np\n",
        "\n",
        "def get_log(x):\n",
        "    return np.log(x)\n",
        "    \n",
        "print(get_log(1))"
      ],
      "execution_count": null,
      "outputs": []
    },
    {
      "cell_type": "markdown",
      "metadata": {
        "id": "L50wmjTYQLym",
        "colab_type": "text"
      },
      "source": [
        "$e$を0乗したら1になるので、1の自然対数は0になります。  "
      ]
    }
  ]
}