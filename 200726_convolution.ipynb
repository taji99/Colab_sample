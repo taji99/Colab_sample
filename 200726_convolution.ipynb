{
  "nbformat": 4,
  "nbformat_minor": 0,
  "metadata": {
    "colab": {
      "name": "200726-convolution.ipynb",
      "provenance": [],
      "collapsed_sections": [],
      "include_colab_link": true
    },
    "kernelspec": {
      "name": "python3",
      "display_name": "Python 3"
    }
  },
  "cells": [
    {
      "cell_type": "markdown",
      "metadata": {
        "id": "view-in-github",
        "colab_type": "text"
      },
      "source": [
        "<a href=\"https://colab.research.google.com/github/taji99/python_basic/blob/master/200726_convolution.ipynb\" target=\"_parent\"><img src=\"https://colab.research.google.com/assets/colab-badge.svg\" alt=\"Open In Colab\"/></a>"
      ]
    },
    {
      "cell_type": "markdown",
      "metadata": {
        "id": "pKGUU1icSTR3",
        "colab_type": "text"
      },
      "source": [
        "# 畳み込みの実装\n",
        "im2colを使って畳み込みを実装します。"
      ]
    },
    {
      "cell_type": "markdown",
      "metadata": {
        "id": "ocUoWS6bShyv",
        "colab_type": "text"
      },
      "source": [
        "## ●im2colの実装\n",
        "im2colにより、フィルタの形状に合わせて画像を行列に変換します。  \n",
        "この行列に変換された画像と、同じく行列に変換されたフィルタの行列積により、畳み込みを行うことができます。  \n",
        "以下は、チャンネル数が1、バッチサイズが1、パディングなしでストライドが1の場合のシンプルなim2colのコードです。"
      ]
    },
    {
      "cell_type": "code",
      "metadata": {
        "id": "AiC1mlvkSQ_r",
        "colab_type": "code",
        "colab": {}
      },
      "source": [
        "import numpy as np\n",
        "\n",
        "def im2col(img, flt_h, flt_w):  # 入力画像、フィルタの高さ、幅\n",
        "   \n",
        "    img_h, img_w = img.shape  # 入力画像の高さ、幅\n",
        "    out_h = img_h - flt_h + 1  # 出力画像の高さ（パディング無し、ストライド1）\n",
        "    out_w = img_w - flt_w + 1  # 出力画像の幅（パディング無し、ストライド1）\n",
        "\n",
        "    cols = np.zeros((flt_h*flt_w, out_h*out_w)) # 生成される行列のサイズ\n",
        "\n",
        "    for h in range(out_h):\n",
        "        h_lim = h + flt_h  # h:フィルタがかかる領域の上端、h_lim:フィルタがかかる領域の下端\n",
        "        for w in range(out_w):\n",
        "            w_lim = w + flt_w  # w:フィルタがかかる領域の左端、w_lim:フィルタがかかる領域の右端\n",
        "            cols[:, h*out_w+w] = img[h:h_lim, w:w_lim].reshape(-1)\n",
        "\n",
        "    return cols"
      ],
      "execution_count": 1,
      "outputs": []
    },
    {
      "cell_type": "markdown",
      "metadata": {
        "id": "Tkt9tHkxnqL9",
        "colab_type": "text"
      },
      "source": [
        "im2colを使って、画像を行列に変換します。"
      ]
    },
    {
      "cell_type": "code",
      "metadata": {
        "id": "zQGKykMzWqwV",
        "colab_type": "code",
        "colab": {
          "base_uri": "https://localhost:8080/",
          "height": 85
        },
        "outputId": "cc8b58ea-be2d-414a-9eef-05092dbf96a9"
      },
      "source": [
        "img = np.array([[1, 2, 3, 4],  # 入力画像\n",
        "                [5, 6, 7, 8],\n",
        "                [9, 10,11,12],\n",
        "                [13,14,15,16]])\n",
        "\n",
        "cols = im2col(img, 2, 2)  # 入力画像と、フィルタの高さ、幅を渡す\n",
        "print(cols)"
      ],
      "execution_count": 2,
      "outputs": [
        {
          "output_type": "stream",
          "text": [
            "[[ 1.  2.  3.  5.  6.  7.  9. 10. 11.]\n",
            " [ 2.  3.  4.  6.  7.  8. 10. 11. 12.]\n",
            " [ 5.  6.  7.  9. 10. 11. 13. 14. 15.]\n",
            " [ 6.  7.  8. 10. 11. 12. 14. 15. 16.]]\n"
          ],
          "name": "stdout"
        }
      ]
    },
    {
      "cell_type": "markdown",
      "metadata": {
        "id": "9d2-JA8WWRg7",
        "colab_type": "text"
      },
      "source": [
        "なお、実際には、様々なバッチサイズ、チャンネル数、パディング幅、ストライドに対応し、forによる繰り返しを最小化した以下ようなim2colのコードが使用されます。  "
      ]
    },
    {
      "cell_type": "code",
      "metadata": {
        "id": "MA_hww_to8WC",
        "colab_type": "code",
        "colab": {}
      },
      "source": [
        "def im2col(images, flt_h, flt_w, stride, pad):\n",
        "   \n",
        "    n_bt, n_ch, img_h, img_w = images.shape\n",
        "    out_h = (img_h - flt_h + 2*pad) // stride + 1  # 出力画像の高さ\n",
        "    out_w = (img_w - flt_w + 2*pad) // stride + 1  # 出力画像の幅\n",
        "    \n",
        "    img_pad = np.pad(images, [(0,0), (0,0), (pad, pad), (pad, pad)], \"constant\")\n",
        "    cols = np.zeros((n_bt, n_ch, flt_h, flt_w, out_h, out_w))\n",
        "\n",
        "    for h in range(flt_h):\n",
        "        h_lim = h + stride*out_h\n",
        "        for w in range(flt_w):\n",
        "            w_lim = w + stride*out_w\n",
        "            cols[:, :, h, w, :, :] = img_pad[:, :, h:h_lim:stride, w:w_lim:stride]\n",
        "\n",
        "    cols = cols.transpose(1, 2, 3, 0, 4, 5).reshape(n_ch*flt_h*flt_w, n_bt*out_h*out_w)\n",
        "    return cols"
      ],
      "execution_count": 4,
      "outputs": []
    },
    {
      "cell_type": "code",
      "metadata": {
        "id": "BsvB8hJAqrX6",
        "colab_type": "code",
        "colab": {
          "base_uri": "https://localhost:8080/",
          "height": 85
        },
        "outputId": "c8aa077b-1239-423d-a7b5-8c41967775e3"
      },
      "source": [
        "img = np.array([[[[1, 2, 3, 4],  # 入力画像\n",
        "                  [5, 6, 7, 8],\n",
        "                  [9, 10,11,12],\n",
        "                  [13,14,15,16]]]])\n",
        "\n",
        "cols = im2col(img, 2, 2, 1, 0)  # 入力画像、フィルタの高さ、幅、ストライド、パディング幅\n",
        "print(cols)"
      ],
      "execution_count": 5,
      "outputs": [
        {
          "output_type": "stream",
          "text": [
            "[[ 1.  2.  3.  5.  6.  7.  9. 10. 11.]\n",
            " [ 2.  3.  4.  6.  7.  8. 10. 11. 12.]\n",
            " [ 5.  6.  7.  9. 10. 11. 13. 14. 15.]\n",
            " [ 6.  7.  8. 10. 11. 12. 14. 15. 16.]]\n"
          ],
          "name": "stdout"
        }
      ]
    },
    {
      "cell_type": "markdown",
      "metadata": {
        "id": "NacDC-p7rcir",
        "colab_type": "text"
      },
      "source": [
        "## ●畳み込みの実装\n",
        "im2colを使って、畳み込みを実装します。  \n",
        "今回は、scikit-learnから手書き文字の画像を読み込み、畳み込みを行います。"
      ]
    },
    {
      "cell_type": "code",
      "metadata": {
        "id": "EMGLkMRnro1B",
        "colab_type": "code",
        "colab": {
          "base_uri": "https://localhost:8080/",
          "height": 282
        },
        "outputId": "a53b7977-3da0-4280-db8b-17c90f83953d"
      },
      "source": [
        "import matplotlib.pyplot as plt \n",
        "from sklearn import datasets\n",
        "\n",
        "digits = datasets.load_digits()\n",
        "print(digits.data.shape)\n",
        "\n",
        "image = digits.data[0].reshape(8, 8)\n",
        "plt.imshow(image, cmap=\"gray\")\n",
        "plt.show() "
      ],
      "execution_count": 6,
      "outputs": [
        {
          "output_type": "stream",
          "text": [
            "(1797, 64)\n"
          ],
          "name": "stdout"
        },
        {
          "output_type": "display_data",
          "data": {
            "image/png": "[encoded data removed]",
            "text/plain": [
              "<Figure size 432x288 with 1 Axes>"
            ]
          },
          "metadata": {
            "tags": [],
            "needs_background": "light"
          }
        }
      ]
    },
    {
      "cell_type": "markdown",
      "metadata": {
        "id": "FusUZ8H6324Z",
        "colab_type": "text"
      },
      "source": [
        "以下の、シンプルなim2colの関数を使います。"
      ]
    },
    {
      "cell_type": "code",
      "metadata": {
        "id": "mPJXdOVqrwiK",
        "colab_type": "code",
        "colab": {}
      },
      "source": [
        "def im2col(img, flt_h, flt_w, out_h, out_w):  # 入力画像、フィルタの高さ、幅、出力画像の高さ、幅\n",
        "\n",
        "    cols = np.zeros((flt_h*flt_w, out_h*out_w)) # 生成される行列のサイズ\n",
        "\n",
        "    for h in range(out_h):\n",
        "        h_lim = h + flt_h  # h:フィルタがかかる領域の上端、h_lim:フィルタがかかる領域の下端\n",
        "        for w in range(out_w):\n",
        "            w_lim = w + flt_w  # w:フィルタがかかる領域の左端、w_lim:フィルタがかかる領域の右端\n",
        "            cols[:, h*out_w+w] = img[h:h_lim, w:w_lim].reshape(-1)\n",
        "\n",
        "    return cols"
      ],
      "execution_count": 7,
      "outputs": []
    },
    {
      "cell_type": "markdown",
      "metadata": {
        "id": "9plSdk5j4CSt",
        "colab_type": "text"
      },
      "source": [
        "im2colで画像を行列に変換し、フィルタとの行列積により畳み込みを行います。"
      ]
    },
    {
      "cell_type": "code",
      "metadata": {
        "id": "zFGhFvYnr_of",
        "colab_type": "code",
        "colab": {
          "base_uri": "https://localhost:8080/",
          "height": 265
        },
        "outputId": "2246ca75-7b54-4fdb-910c-93da518538f3"
      },
      "source": [
        "flt = np.array([[-1, 1, -1,],  # 縦の線を強調するフィルタ\n",
        "                [-1, 1, -1,],\n",
        "                [-1, 1, -1,]])\n",
        "flt_h, flt_w = flt.shape\n",
        "flt = flt.reshape(-1)  # 行数が1の行列\n",
        "\n",
        "img_h, img_w = image.shape  # 入力画像の高さ、幅\n",
        "out_h = img_h - flt_h + 1  # 出力画像の高さ（パディング無し、ストライド1）\n",
        "out_w = img_w - flt_w + 1  # 出力画像の幅（パディング無し、ストライド1）\n",
        "\n",
        "cols = im2col(image, flt_h, flt_w, out_h, out_w)\n",
        "\n",
        "image_out = np.dot(flt, cols)  # 畳み込み\n",
        "image_out = image_out.reshape(out_h, out_w)\n",
        "plt.imshow(image_out, cmap=\"gray\")\n",
        "plt.show() "
      ],
      "execution_count": 8,
      "outputs": [
        {
          "output_type": "display_data",
          "data": {
            "image/png": "[encoded data removed]",
            "text/plain": [
              "<Figure size 432x288 with 1 Axes>"
            ]
          },
          "metadata": {
            "tags": [],
            "needs_background": "light"
          }
        }
      ]
    },
    {
      "cell_type": "markdown",
      "metadata": {
        "id": "mritI1XR5HL3",
        "colab_type": "text"
      },
      "source": [
        "フィルタにより、縦の線が強調されました。  \n",
        "また、画像サイズが小さくなっていることも確認できます。  \n",
        "畳み込み層においては、このような畳み込みにより画像の特徴の抽出が行われます。  "
      ]
    }
  ]
}