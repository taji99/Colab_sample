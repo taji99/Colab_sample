{
  "nbformat": 4,
  "nbformat_minor": 0,
  "metadata": {
    "kernelspec": {
      "display_name": "Python 3",
      "language": "python",
      "name": "python3"
    },
    "language_info": {
      "codemirror_mode": {
        "name": "ipython",
        "version": 3
      },
      "file_extension": ".py",
      "mimetype": "text/x-python",
      "name": "python",
      "nbconvert_exporter": "python",
      "pygments_lexer": "ipython3",
      "version": "3.6.8"
    },
    "colab": {
      "name": "200726-simple_rnn.ipynb",
      "provenance": [],
      "collapsed_sections": [],
      "include_colab_link": true
    }
  },
  "cells": [
    {
      "cell_type": "markdown",
      "metadata": {
        "id": "view-in-github",
        "colab_type": "text"
      },
      "source": [
        "<a href=\"https://colab.research.google.com/github/taji99/python_basic/blob/master/200726_simple_rnn.ipynb\" target=\"_parent\"><img src=\"https://colab.research.google.com/assets/colab-badge.svg\" alt=\"Open In Colab\"/></a>"
      ]
    },
    {
      "cell_type": "markdown",
      "metadata": {
        "id": "hDUWH_lsLXxo",
        "colab_type": "text"
      },
      "source": [
        "# シンプルなRNNの実装\n",
        "シンプルな再帰型ニューラルネットワーク（RNN）を用いて、時系列データを学習します。"
      ]
    },
    {
      "cell_type": "markdown",
      "metadata": {
        "id": "4pjF8DXWLXxr",
        "colab_type": "text"
      },
      "source": [
        "## 訓練用データの作成\n",
        "RNNに用いる訓練用のデータを作成します。  \n",
        "サイン関数に乱数でノイズを加えたデータを作成し、過去の時系列データから未来の値を予測できるようにします。  \n",
        "正解は、入力の時系列を一つ後にずらしたものにします。  "
      ]
    },
    {
      "cell_type": "code",
      "metadata": {
        "id": "NoAdZO5HLXxs",
        "colab_type": "code",
        "colab": {
          "base_uri": "https://localhost:8080/",
          "height": 299
        },
        "outputId": "fa1050ae-e43d-4cf2-c05a-2a5845a5e35b"
      },
      "source": [
        "import numpy as np\n",
        "import matplotlib.pyplot as plt\n",
        "\n",
        "x_data = np.linspace(-2*np.pi, 2*np.pi)  # -2πから2πまで\n",
        "sin_data = np.sin(x_data)  + 0.1*np.random.randn(len(x_data))  # sin関数に乱数でノイズを加える\n",
        "\n",
        "plt.plot(x_data, sin_data)\n",
        "plt.show()\n",
        "\n",
        "n_rnn = 10  # 時系列の数\n",
        "n_sample = len(x_data)-n_rnn  # サンプル数\n",
        "x = np.zeros((n_sample, n_rnn))  # 入力\n",
        "t = np.zeros((n_sample, n_rnn))  # 正解\n",
        "for i in range(0, n_sample):\n",
        "    x[i] = sin_data[i:i+n_rnn]\n",
        "    t[i] = sin_data[i+1:i+n_rnn+1]  # 時系列を入力よりも一つ後にずらす\n",
        "\n",
        "x = x.reshape(n_sample, n_rnn, 1)  # KerasにおけるRNNでは、入力を（サンプル数、時系列の数、入力層のニューロン数）にする\n",
        "print(x.shape)\n",
        "t = t.reshape(n_sample, n_rnn, 1)  # 今回は入力と同じ形状\n",
        "print(t.shape)"
      ],
      "execution_count": 1,
      "outputs": [
        {
          "output_type": "display_data",
          "data": {
            "image/png": "[encoded data removed]",
            "text/plain": [
              "<Figure size 432x288 with 1 Axes>"
            ]
          },
          "metadata": {
            "tags": [],
            "needs_background": "light"
          }
        },
        {
          "output_type": "stream",
          "text": [
            "(40, 10, 1)\n",
            "(40, 10, 1)\n"
          ],
          "name": "stdout"
        }
      ]
    },
    {
      "cell_type": "markdown",
      "metadata": {
        "id": "VFHfxB10mvdy",
        "colab_type": "text"
      },
      "source": [
        "sin波自体は単純な時系列データですが、これは例えば空気の振動である「音」を表していると考えることもできます。  \n",
        "上記では、雑音の無いきれいな音にノイズを加えています。  \n",
        "このようなsin波をニューラルネットワークで学習することができれば、これを例えば音声認識などに応用することも可能です。  \n",
        "また、ノイズが混ざったsin波から真のsin波を抽出できれば、ノイズの除去が可能です。  \n",
        "このように、今回扱う対象ははシンプルですが、現実社会で広く応用が可能することができます。"
      ]
    },
    {
      "cell_type": "markdown",
      "metadata": {
        "id": "x_oWna_GLXxw",
        "colab_type": "text"
      },
      "source": [
        "## RNNの構築\n",
        "Kerasを使ってRNNを構築します。  \n",
        "今回は、Kerasが持つRNNの中で一番シンプルなSimpleRNN層を使います。"
      ]
    },
    {
      "cell_type": "code",
      "metadata": {
        "id": "r7PIsQrnLXxx",
        "colab_type": "code",
        "colab": {
          "base_uri": "https://localhost:8080/",
          "height": 255
        },
        "outputId": "e50082a1-a6ec-4ded-f987-b69d17eaf8aa"
      },
      "source": [
        "from keras.models import Sequential\n",
        "from keras.layers import Dense, SimpleRNN\n",
        "\n",
        "batch_size = 8  # バッチサイズ\n",
        "n_in = 1  # 入力層のニューロン数\n",
        "n_mid = 20  # 中間層のニューロン数\n",
        "n_out = 1  # 出力層のニューロン数\n",
        "\n",
        "model = Sequential()\n",
        "# SimpleRNN層の追加。return_sequenceをTrueにすると、時系列の全てのRNN層が出力を返す。\n",
        "# return_sequenceをTrueをFalseにすると、最後のRNN層のみが出力を返す。\n",
        "model.add(SimpleRNN(n_mid, input_shape=(n_rnn, n_in), return_sequences=True))\n",
        "model.add(Dense(n_out, activation=\"linear\"))\n",
        "model.compile(loss=\"mean_squared_error\", optimizer=\"sgd\")  # 誤差は二乗誤差、最適化アルゴリズムはSGD\n",
        "print(model.summary())"
      ],
      "execution_count": 2,
      "outputs": [
        {
          "output_type": "stream",
          "text": [
            "Using TensorFlow backend.\n"
          ],
          "name": "stderr"
        },
        {
          "output_type": "stream",
          "text": [
            "Model: \"sequential_1\"\n",
            "_________________________________________________________________\n",
            "Layer (type)                 Output Shape              Param #   \n",
            "=================================================================\n",
            "simple_rnn_1 (SimpleRNN)     (None, 10, 20)            440       \n",
            "_________________________________________________________________\n",
            "dense_1 (Dense)              (None, 10, 1)             21        \n",
            "=================================================================\n",
            "Total params: 461\n",
            "Trainable params: 461\n",
            "Non-trainable params: 0\n",
            "_________________________________________________________________\n",
            "None\n"
          ],
          "name": "stdout"
        }
      ]
    },
    {
      "cell_type": "markdown",
      "metadata": {
        "id": "mQdsIbCVLXxz",
        "colab_type": "text"
      },
      "source": [
        "## 学習\n",
        "構築したRNNのモデルを使って、学習を行います。  "
      ]
    },
    {
      "cell_type": "code",
      "metadata": {
        "id": "-f_rUNG8LXx0",
        "colab_type": "code",
        "colab": {
          "base_uri": "https://localhost:8080/",
          "height": 714
        },
        "outputId": "44104490-cfb9-4338-edf8-45598466af4d"
      },
      "source": [
        "history = model.fit(x, t, epochs=20, batch_size=batch_size, validation_split=0.1)"
      ],
      "execution_count": 3,
      "outputs": [
        {
          "output_type": "stream",
          "text": [
            "Train on 36 samples, validate on 4 samples\n",
            "Epoch 1/20\n",
            "36/36 [==============================] - 0s 11ms/step - loss: 1.0723 - val_loss: 0.4918\n",
            "Epoch 2/20\n",
            "36/36 [==============================] - 0s 550us/step - loss: 0.5664 - val_loss: 0.2891\n",
            "Epoch 3/20\n",
            "36/36 [==============================] - 0s 548us/step - loss: 0.3869 - val_loss: 0.2218\n",
            "Epoch 4/20\n",
            "36/36 [==============================] - 0s 517us/step - loss: 0.3064 - val_loss: 0.1869\n",
            "Epoch 5/20\n",
            "36/36 [==============================] - 0s 514us/step - loss: 0.2618 - val_loss: 0.1693\n",
            "Epoch 6/20\n",
            "36/36 [==============================] - 0s 492us/step - loss: 0.2320 - val_loss: 0.1565\n",
            "Epoch 7/20\n",
            "36/36 [==============================] - 0s 477us/step - loss: 0.2093 - val_loss: 0.1465\n",
            "Epoch 8/20\n",
            "36/36 [==============================] - 0s 713us/step - loss: 0.1909 - val_loss: 0.1371\n",
            "Epoch 9/20\n",
            "36/36 [==============================] - 0s 614us/step - loss: 0.1755 - val_loss: 0.1270\n",
            "Epoch 10/20\n",
            "36/36 [==============================] - 0s 558us/step - loss: 0.1629 - val_loss: 0.1225\n",
            "Epoch 11/20\n",
            "36/36 [==============================] - 0s 591us/step - loss: 0.1520 - val_loss: 0.1184\n",
            "Epoch 12/20\n",
            "36/36 [==============================] - 0s 611us/step - loss: 0.1435 - val_loss: 0.1124\n",
            "Epoch 13/20\n",
            "36/36 [==============================] - 0s 585us/step - loss: 0.1352 - val_loss: 0.1076\n",
            "Epoch 14/20\n",
            "36/36 [==============================] - 0s 632us/step - loss: 0.1281 - val_loss: 0.1048\n",
            "Epoch 15/20\n",
            "36/36 [==============================] - 0s 625us/step - loss: 0.1223 - val_loss: 0.1023\n",
            "Epoch 16/20\n",
            "36/36 [==============================] - 0s 525us/step - loss: 0.1169 - val_loss: 0.1027\n",
            "Epoch 17/20\n",
            "36/36 [==============================] - 0s 607us/step - loss: 0.1122 - val_loss: 0.0991\n",
            "Epoch 18/20\n",
            "36/36 [==============================] - 0s 675us/step - loss: 0.1078 - val_loss: 0.0968\n",
            "Epoch 19/20\n",
            "36/36 [==============================] - 0s 593us/step - loss: 0.1040 - val_loss: 0.0921\n",
            "Epoch 20/20\n",
            "36/36 [==============================] - 0s 857us/step - loss: 0.1006 - val_loss: 0.0897\n"
          ],
          "name": "stdout"
        }
      ]
    },
    {
      "cell_type": "markdown",
      "metadata": {
        "id": "nudkWSvHLXx2",
        "colab_type": "text"
      },
      "source": [
        "## 学習の推移\n",
        "誤差の推移を確認します。"
      ]
    },
    {
      "cell_type": "code",
      "metadata": {
        "id": "er0PdoEzLXx3",
        "colab_type": "code",
        "colab": {
          "base_uri": "https://localhost:8080/",
          "height": 265
        },
        "outputId": "d67c3d71-37c8-410b-c22e-077ae3f02967"
      },
      "source": [
        "loss = history.history['loss']\n",
        "vloss = history.history['val_loss']\n",
        "\n",
        "plt.plot(np.arange(len(loss)), loss)\n",
        "plt.plot(np.arange(len(vloss)), vloss)\n",
        "plt.show()"
      ],
      "execution_count": 4,
      "outputs": [
        {
          "output_type": "display_data",
          "data": {
            "image/png": "[encoded data removed]",
            "text/plain": [
              "<Figure size 432x288 with 1 Axes>"
            ]
          },
          "metadata": {
            "tags": [],
            "needs_background": "light"
          }
        }
      ]
    },
    {
      "cell_type": "markdown",
      "metadata": {
        "id": "UgtTS-sOLXx4",
        "colab_type": "text"
      },
      "source": [
        "## 学習済みモデルの使用\n",
        "RNNの学習済みモデルを使って、サイン関数の次の値を予測します。"
      ]
    },
    {
      "cell_type": "code",
      "metadata": {
        "id": "uBOQQ3OeLXx5",
        "colab_type": "code",
        "colab": {
          "base_uri": "https://localhost:8080/",
          "height": 265
        },
        "outputId": "e0f2877c-b4c1-4635-aa17-d72240ecf064"
      },
      "source": [
        "predicted = x[0].reshape(-1)  # 最初の入力。reshape(-1)で一次元のベクトルにする。\n",
        "\n",
        "for i in range(0, n_sample):\n",
        "    y = model.predict(predicted[-n_rnn:].reshape(1, n_rnn, 1))  # 直近のデータを使って予測を行う\n",
        "    predicted = np.append(predicted, y[0][n_rnn-1][0])  # 出力の最後の結果をpredictedに追加する\n",
        "\n",
        "plt.plot(np.arange(len(sin_data)), sin_data, label=\"Training data\")\n",
        "plt.plot(np.arange(len(predicted)), predicted, label=\"Predicted\")\n",
        "plt.legend()\n",
        "plt.show()"
      ],
      "execution_count": 5,
      "outputs": [
        {
          "output_type": "display_data",
          "data": {
            "image/png": "[encoded data removed]",
            "text/plain": [
              "<Figure size 432x288 with 1 Axes>"
            ]
          },
          "metadata": {
            "tags": [],
            "needs_background": "light"
          }
        }
      ]
    },
    {
      "cell_type": "markdown",
      "metadata": {
        "id": "4i1gB3LxLXx7",
        "colab_type": "text"
      },
      "source": [
        "直近の時系列データを使って、次の値を予測できるようになりました。  \n",
        "今回はサインカーブの予測を行いましたが、同様の技術を例えば価格の予測などに応用することも可能です。"
      ]
    }
  ]
}