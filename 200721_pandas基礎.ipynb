{
  "nbformat": 4,
  "nbformat_minor": 0,
  "metadata": {
    "kernelspec": {
      "display_name": "Python 3",
      "language": "python",
      "name": "python3"
    },
    "language_info": {
      "codemirror_mode": {
        "name": "ipython",
        "version": 3
      },
      "file_extension": ".py",
      "mimetype": "text/x-python",
      "name": "python",
      "nbconvert_exporter": "python",
      "pygments_lexer": "ipython3",
      "version": "3.5.4"
    },
    "colab": {
      "name": "200721-pandas基礎.ipynb",
      "provenance": [],
      "collapsed_sections": [],
      "include_colab_link": true
    }
  },
  "cells": [
    {
      "cell_type": "markdown",
      "metadata": {
        "id": "view-in-github",
        "colab_type": "text"
      },
      "source": [
        "<a href=\"https://colab.research.google.com/github/taji99/Colab_sample/blob/master/200721_pandas%E5%9F%BA%E7%A4%8E.ipynb\" target=\"_parent\"><img src=\"https://colab.research.google.com/assets/colab-badge.svg\" alt=\"Open In Colab\"/></a>"
      ]
    },
    {
      "cell_type": "markdown",
      "metadata": {
        "id": "8PEI59mRTLnr",
        "colab_type": "text"
      },
      "source": [
        "# Pandasの基礎\n",
        "PandasはPythonでデータ分析を行うためのライブラリで、データの読み込みや編集、統計量の表示などを簡単に行うことができます。  \n",
        "主要なコードはCythonまたはC言語で書かれており、高速に動作します。  \n",
        "このため、PandasはPythonによるデータ分析や機械学習でよく使われます。  "
      ]
    },
    {
      "cell_type": "markdown",
      "metadata": {
        "id": "5e9PIBU6TLnt",
        "colab_type": "text"
      },
      "source": [
        "## ●Pandasの導入"
      ]
    },
    {
      "cell_type": "markdown",
      "metadata": {
        "id": "eG_cxnskTLnt",
        "colab_type": "text"
      },
      "source": [
        "Pandasを使うためには、Pandasのモジュールをインポートする必要があります。  \n",
        "NumPyもインポートしておきます。"
      ]
    },
    {
      "cell_type": "code",
      "metadata": {
        "id": "CWUJW65XTLnu",
        "colab_type": "code",
        "colab": {}
      },
      "source": [
        "import pandas as pd\n",
        "import numpy as np"
      ],
      "execution_count": 1,
      "outputs": []
    },
    {
      "cell_type": "markdown",
      "metadata": {
        "id": "fvXEKAa4Gwgo",
        "colab_type": "text"
      },
      "source": [
        "Pandasのデータ構造にはSeries（一次元）とDataFrame（二次元）があります。  "
      ]
    },
    {
      "cell_type": "markdown",
      "metadata": {
        "id": "RRtewqUt-T0z",
        "colab_type": "text"
      },
      "source": [
        "## ●Seriesの作成  \n",
        "Seriesはラベル付きの一次元の配列で、整数や少数、文字列など様々な型のデータを格納することができます。  \n",
        "以下は、リストからSeriesを作る例です。  \n",
        "ラベルは`index`で指定します。"
      ]
    },
    {
      "cell_type": "code",
      "metadata": {
        "id": "HyKwLbexAJsE",
        "colab_type": "code",
        "colab": {
          "base_uri": "https://localhost:8080/",
          "height": 136
        },
        "outputId": "5550819b-98c8-4dd0-a7e4-3bf509ee2aa5"
      },
      "source": [
        "a = pd.Series([60, 80, 70, 50, 30], index=[\"Japanese\", \"English\", \"Math\", \"Science\", \"History\"])\n",
        "print(type(a))\n",
        "print(a)"
      ],
      "execution_count": 2,
      "outputs": [
        {
          "output_type": "stream",
          "text": [
            "<class 'pandas.core.series.Series'>\n",
            "Japanese    60\n",
            "English     80\n",
            "Math        70\n",
            "Science     50\n",
            "History     30\n",
            "dtype: int64\n"
          ],
          "name": "stdout"
        }
      ]
    },
    {
      "cell_type": "markdown",
      "metadata": {
        "id": "mU5FhLgzDuI_",
        "colab_type": "text"
      },
      "source": [
        "上記ではリストとしてデータとラベルを渡していますが、NumPyの配列を使っても構いません。"
      ]
    },
    {
      "cell_type": "code",
      "metadata": {
        "id": "qWROtvnyCmv9",
        "colab_type": "code",
        "colab": {
          "base_uri": "https://localhost:8080/",
          "height": 136
        },
        "outputId": "5979e0e0-bf95-48dc-a76c-e6d29a81d73a"
      },
      "source": [
        "a = pd.Series(np.array([60, 80, 70, 50, 30]), index=np.array([\"Japanese\", \"English\", \"Math\", \"Science\", \"History\"]))\n",
        "print(type(a))\n",
        "print(a)"
      ],
      "execution_count": 3,
      "outputs": [
        {
          "output_type": "stream",
          "text": [
            "<class 'pandas.core.series.Series'>\n",
            "Japanese    60\n",
            "English     80\n",
            "Math        70\n",
            "Science     50\n",
            "History     30\n",
            "dtype: int64\n"
          ],
          "name": "stdout"
        }
      ]
    },
    {
      "cell_type": "markdown",
      "metadata": {
        "id": "Qnk7Ev_AFFf1",
        "colab_type": "text"
      },
      "source": [
        "Seriesは、辞書から作ることもできます。"
      ]
    },
    {
      "cell_type": "code",
      "metadata": {
        "id": "bcc2Ic8jFpIZ",
        "colab_type": "code",
        "colab": {
          "base_uri": "https://localhost:8080/",
          "height": 136
        },
        "outputId": "43d61e7d-b7b5-456a-e8a3-7dcc7a4ffbcb"
      },
      "source": [
        "a = pd.Series({\"Japanese\":60, \"English\":80, \"Math\":70, \"Science\":50, \"History\":30})\n",
        "print(type(a))\n",
        "print(a)"
      ],
      "execution_count": 4,
      "outputs": [
        {
          "output_type": "stream",
          "text": [
            "<class 'pandas.core.series.Series'>\n",
            "Japanese    60\n",
            "English     80\n",
            "Math        70\n",
            "Science     50\n",
            "History     30\n",
            "dtype: int64\n"
          ],
          "name": "stdout"
        }
      ]
    },
    {
      "cell_type": "markdown",
      "metadata": {
        "id": "GJMOkoiaFmeL",
        "colab_type": "text"
      },
      "source": [
        "## ●Seriesの操作  \n",
        "インデックスやラベルを使って、Seriesのデータの操作を行うことができます。  \n",
        "以下は、データにアクセスする例です。"
      ]
    },
    {
      "cell_type": "code",
      "metadata": {
        "id": "eVZS5efCLGeA",
        "colab_type": "code",
        "colab": {
          "base_uri": "https://localhost:8080/",
          "height": 51
        },
        "outputId": "d18edd75-178e-453d-80b5-d7451ea8908d"
      },
      "source": [
        "a = pd.Series([60, 80, 70, 50, 30], index=[\"Japanese\", \"English\", \"Math\", \"Science\", \"History\"])\n",
        "print(a[2])  # インデックスを指定\n",
        "print(a[\"Math\"])  # ラベルを指定"
      ],
      "execution_count": 5,
      "outputs": [
        {
          "output_type": "stream",
          "text": [
            "70\n",
            "70\n"
          ],
          "name": "stdout"
        }
      ]
    },
    {
      "cell_type": "markdown",
      "metadata": {
        "id": "pZoME04WLtNR",
        "colab_type": "text"
      },
      "source": [
        "`append`を使ってデータを追加することができます。"
      ]
    },
    {
      "cell_type": "code",
      "metadata": {
        "id": "rh2ylNnpMlGK",
        "colab_type": "code",
        "colab": {
          "base_uri": "https://localhost:8080/",
          "height": 136
        },
        "outputId": "7d2c01c6-49fb-4c9a-d252-afd0d8c689ec"
      },
      "source": [
        "a = pd.Series([60, 80, 70, 50, 30], index=[\"Japanese\", \"English\", \"Math\", \"Science\", \"History\"])\n",
        "b = pd.Series([20], index=[\"Art\"])\n",
        "a = a.append(b)\n",
        "print(a)"
      ],
      "execution_count": 6,
      "outputs": [
        {
          "output_type": "stream",
          "text": [
            "Japanese    60\n",
            "English     80\n",
            "Math        70\n",
            "Science     50\n",
            "History     30\n",
            "Art         20\n",
            "dtype: int64\n"
          ],
          "name": "stdout"
        }
      ]
    },
    {
      "cell_type": "markdown",
      "metadata": {
        "id": "5WhPDnlwN-0M",
        "colab_type": "text"
      },
      "source": [
        "その他、データの変更や削除、Series同士の結合なども可能です。  \n",
        "詳細については、公式ドキュメントなどを参考にしましょう。  \n",
        "https://pandas.pydata.org/pandas-docs/stable/getting_started/10min.html"
      ]
    },
    {
      "cell_type": "markdown",
      "metadata": {
        "id": "Lfd5_xOHTLnx",
        "colab_type": "text"
      },
      "source": [
        "## ●DataFrameの作成\n",
        "DataFrameはラベル付きの二次元の配列で、整数や少数、文字列など様々な型のデータを格納することができます。  \n",
        "以下は、二次元のリストからDataFrameを作る例です。  "
      ]
    },
    {
      "cell_type": "code",
      "metadata": {
        "id": "S4WV4FcFTLny",
        "colab_type": "code",
        "colab": {
          "base_uri": "https://localhost:8080/",
          "height": 235
        },
        "outputId": "92fca74e-0735-4a40-e5bf-350ba5e644f7"
      },
      "source": [
        "a = pd.DataFrame([[80, 60, 70, True],\n",
        "                  [90, 80, 70, True],\n",
        "                  [70, 60, 75, True],\n",
        "                  [40, 60, 50, False],\n",
        "                  [20, 30, 40, False],\n",
        "                  [50, 20, 10, False]])\n",
        "a  # ノートブックではprintを使わなくても表示が可能"
      ],
      "execution_count": 7,
      "outputs": [
        {
          "output_type": "execute_result",
          "data": {
            "text/html": [
              "<div>\n",
              "<style scoped>\n",
              "    .dataframe tbody tr th:only-of-type {\n",
              "        vertical-align: middle;\n",
              "    }\n",
              "\n",
              "    .dataframe tbody tr th {\n",
              "        vertical-align: top;\n",
              "    }\n",
              "\n",
              "    .dataframe thead th {\n",
              "        text-align: right;\n",
              "    }\n",
              "</style>\n",
              "<table border=\"1\" class=\"dataframe\">\n",
              "  <thead>\n",
              "    <tr style=\"text-align: right;\">\n",
              "      <th></th>\n",
              "      <th>0</th>\n",
              "      <th>1</th>\n",
              "      <th>2</th>\n",
              "      <th>3</th>\n",
              "    </tr>\n",
              "  </thead>\n",
              "  <tbody>\n",
              "    <tr>\n",
              "      <th>0</th>\n",
              "      <td>80</td>\n",
              "      <td>60</td>\n",
              "      <td>70</td>\n",
              "      <td>True</td>\n",
              "    </tr>\n",
              "    <tr>\n",
              "      <th>1</th>\n",
              "      <td>90</td>\n",
              "      <td>80</td>\n",
              "      <td>70</td>\n",
              "      <td>True</td>\n",
              "    </tr>\n",
              "    <tr>\n",
              "      <th>2</th>\n",
              "      <td>70</td>\n",
              "      <td>60</td>\n",
              "      <td>75</td>\n",
              "      <td>True</td>\n",
              "    </tr>\n",
              "    <tr>\n",
              "      <th>3</th>\n",
              "      <td>40</td>\n",
              "      <td>60</td>\n",
              "      <td>50</td>\n",
              "      <td>False</td>\n",
              "    </tr>\n",
              "    <tr>\n",
              "      <th>4</th>\n",
              "      <td>20</td>\n",
              "      <td>30</td>\n",
              "      <td>40</td>\n",
              "      <td>False</td>\n",
              "    </tr>\n",
              "    <tr>\n",
              "      <th>5</th>\n",
              "      <td>50</td>\n",
              "      <td>20</td>\n",
              "      <td>10</td>\n",
              "      <td>False</td>\n",
              "    </tr>\n",
              "  </tbody>\n",
              "</table>\n",
              "</div>"
            ],
            "text/plain": [
              "    0   1   2      3\n",
              "0  80  60  70   True\n",
              "1  90  80  70   True\n",
              "2  70  60  75   True\n",
              "3  40  60  50  False\n",
              "4  20  30  40  False\n",
              "5  50  20  10  False"
            ]
          },
          "metadata": {
            "tags": []
          },
          "execution_count": 7
        }
      ]
    },
    {
      "cell_type": "markdown",
      "metadata": {
        "id": "7EVVx2ydX8FV",
        "colab_type": "text"
      },
      "source": [
        "DataFrameはSeriesや辞書、NumPyの配列から作ることも可能です。  \n",
        "行と列には、ラベルをつけることができます。\n"
      ]
    },
    {
      "cell_type": "code",
      "metadata": {
        "id": "zF_wUnEWWdeU",
        "colab_type": "code",
        "colab": {
          "base_uri": "https://localhost:8080/",
          "height": 235
        },
        "outputId": "86fea386-7783-4d8d-c9a9-9326ee92ffb7"
      },
      "source": [
        "a.index = [\"Taro\", \"Hanako\", \"Jiro\", \"Sachiko\", \"Saburo\", \"Yoko\"]\n",
        "a.columns = [\"Japanese\", \"English\", \"Math\", \"Result\"]\n",
        "a"
      ],
      "execution_count": 8,
      "outputs": [
        {
          "output_type": "execute_result",
          "data": {
            "text/html": [
              "<div>\n",
              "<style scoped>\n",
              "    .dataframe tbody tr th:only-of-type {\n",
              "        vertical-align: middle;\n",
              "    }\n",
              "\n",
              "    .dataframe tbody tr th {\n",
              "        vertical-align: top;\n",
              "    }\n",
              "\n",
              "    .dataframe thead th {\n",
              "        text-align: right;\n",
              "    }\n",
              "</style>\n",
              "<table border=\"1\" class=\"dataframe\">\n",
              "  <thead>\n",
              "    <tr style=\"text-align: right;\">\n",
              "      <th></th>\n",
              "      <th>Japanese</th>\n",
              "      <th>English</th>\n",
              "      <th>Math</th>\n",
              "      <th>Result</th>\n",
              "    </tr>\n",
              "  </thead>\n",
              "  <tbody>\n",
              "    <tr>\n",
              "      <th>Taro</th>\n",
              "      <td>80</td>\n",
              "      <td>60</td>\n",
              "      <td>70</td>\n",
              "      <td>True</td>\n",
              "    </tr>\n",
              "    <tr>\n",
              "      <th>Hanako</th>\n",
              "      <td>90</td>\n",
              "      <td>80</td>\n",
              "      <td>70</td>\n",
              "      <td>True</td>\n",
              "    </tr>\n",
              "    <tr>\n",
              "      <th>Jiro</th>\n",
              "      <td>70</td>\n",
              "      <td>60</td>\n",
              "      <td>75</td>\n",
              "      <td>True</td>\n",
              "    </tr>\n",
              "    <tr>\n",
              "      <th>Sachiko</th>\n",
              "      <td>40</td>\n",
              "      <td>60</td>\n",
              "      <td>50</td>\n",
              "      <td>False</td>\n",
              "    </tr>\n",
              "    <tr>\n",
              "      <th>Saburo</th>\n",
              "      <td>20</td>\n",
              "      <td>30</td>\n",
              "      <td>40</td>\n",
              "      <td>False</td>\n",
              "    </tr>\n",
              "    <tr>\n",
              "      <th>Yoko</th>\n",
              "      <td>50</td>\n",
              "      <td>20</td>\n",
              "      <td>10</td>\n",
              "      <td>False</td>\n",
              "    </tr>\n",
              "  </tbody>\n",
              "</table>\n",
              "</div>"
            ],
            "text/plain": [
              "         Japanese  English  Math  Result\n",
              "Taro           80       60    70    True\n",
              "Hanako         90       80    70    True\n",
              "Jiro           70       60    75    True\n",
              "Sachiko        40       60    50   False\n",
              "Saburo         20       30    40   False\n",
              "Yoko           50       20    10   False"
            ]
          },
          "metadata": {
            "tags": []
          },
          "execution_count": 8
        }
      ]
    },
    {
      "cell_type": "markdown",
      "metadata": {
        "id": "Cz3sZz_dDE-l",
        "colab_type": "text"
      },
      "source": [
        "## ●データの特徴"
      ]
    },
    {
      "cell_type": "markdown",
      "metadata": {
        "id": "7nJL94v7EjQc",
        "colab_type": "text"
      },
      "source": [
        "`shape`により、データの行数、列数を取得できます。  "
      ]
    },
    {
      "cell_type": "code",
      "metadata": {
        "id": "zZUONW-cEjhM",
        "colab_type": "code",
        "colab": {
          "base_uri": "https://localhost:8080/",
          "height": 34
        },
        "outputId": "4ed72da8-06ac-4c2f-8590-0bfa261b34db"
      },
      "source": [
        "a.shape  # 行数、列数"
      ],
      "execution_count": 9,
      "outputs": [
        {
          "output_type": "execute_result",
          "data": {
            "text/plain": [
              "(6, 4)"
            ]
          },
          "metadata": {
            "tags": []
          },
          "execution_count": 9
        }
      ]
    },
    {
      "cell_type": "markdown",
      "metadata": {
        "id": "BWCM7AkG_-T9",
        "colab_type": "text"
      },
      "source": [
        "最初の5行を表示する際は、`head()`を、最後の5行のみを表示する際は`tail()`を使います。  \n",
        "特に行数が多い場合に、データの概要を把握するのに便利です。  "
      ]
    },
    {
      "cell_type": "code",
      "metadata": {
        "id": "6aveUK09_-8x",
        "colab_type": "code",
        "colab": {
          "base_uri": "https://localhost:8080/",
          "height": 204
        },
        "outputId": "73edf4de-4256-4924-c841-928628c2bca8"
      },
      "source": [
        "a.head()  # 最初の5行"
      ],
      "execution_count": 10,
      "outputs": [
        {
          "output_type": "execute_result",
          "data": {
            "text/html": [
              "<div>\n",
              "<style scoped>\n",
              "    .dataframe tbody tr th:only-of-type {\n",
              "        vertical-align: middle;\n",
              "    }\n",
              "\n",
              "    .dataframe tbody tr th {\n",
              "        vertical-align: top;\n",
              "    }\n",
              "\n",
              "    .dataframe thead th {\n",
              "        text-align: right;\n",
              "    }\n",
              "</style>\n",
              "<table border=\"1\" class=\"dataframe\">\n",
              "  <thead>\n",
              "    <tr style=\"text-align: right;\">\n",
              "      <th></th>\n",
              "      <th>Japanese</th>\n",
              "      <th>English</th>\n",
              "      <th>Math</th>\n",
              "      <th>Result</th>\n",
              "    </tr>\n",
              "  </thead>\n",
              "  <tbody>\n",
              "    <tr>\n",
              "      <th>Taro</th>\n",
              "      <td>80</td>\n",
              "      <td>60</td>\n",
              "      <td>70</td>\n",
              "      <td>True</td>\n",
              "    </tr>\n",
              "    <tr>\n",
              "      <th>Hanako</th>\n",
              "      <td>90</td>\n",
              "      <td>80</td>\n",
              "      <td>70</td>\n",
              "      <td>True</td>\n",
              "    </tr>\n",
              "    <tr>\n",
              "      <th>Jiro</th>\n",
              "      <td>70</td>\n",
              "      <td>60</td>\n",
              "      <td>75</td>\n",
              "      <td>True</td>\n",
              "    </tr>\n",
              "    <tr>\n",
              "      <th>Sachiko</th>\n",
              "      <td>40</td>\n",
              "      <td>60</td>\n",
              "      <td>50</td>\n",
              "      <td>False</td>\n",
              "    </tr>\n",
              "    <tr>\n",
              "      <th>Saburo</th>\n",
              "      <td>20</td>\n",
              "      <td>30</td>\n",
              "      <td>40</td>\n",
              "      <td>False</td>\n",
              "    </tr>\n",
              "  </tbody>\n",
              "</table>\n",
              "</div>"
            ],
            "text/plain": [
              "         Japanese  English  Math  Result\n",
              "Taro           80       60    70    True\n",
              "Hanako         90       80    70    True\n",
              "Jiro           70       60    75    True\n",
              "Sachiko        40       60    50   False\n",
              "Saburo         20       30    40   False"
            ]
          },
          "metadata": {
            "tags": []
          },
          "execution_count": 10
        }
      ]
    },
    {
      "cell_type": "code",
      "metadata": {
        "id": "D4qdYNkaAbD-",
        "colab_type": "code",
        "colab": {
          "base_uri": "https://localhost:8080/",
          "height": 204
        },
        "outputId": "ed1d105e-003f-46f0-e282-1ae3482d5696"
      },
      "source": [
        "a.tail()  # 最後の5行"
      ],
      "execution_count": 11,
      "outputs": [
        {
          "output_type": "execute_result",
          "data": {
            "text/html": [
              "<div>\n",
              "<style scoped>\n",
              "    .dataframe tbody tr th:only-of-type {\n",
              "        vertical-align: middle;\n",
              "    }\n",
              "\n",
              "    .dataframe tbody tr th {\n",
              "        vertical-align: top;\n",
              "    }\n",
              "\n",
              "    .dataframe thead th {\n",
              "        text-align: right;\n",
              "    }\n",
              "</style>\n",
              "<table border=\"1\" class=\"dataframe\">\n",
              "  <thead>\n",
              "    <tr style=\"text-align: right;\">\n",
              "      <th></th>\n",
              "      <th>Japanese</th>\n",
              "      <th>English</th>\n",
              "      <th>Math</th>\n",
              "      <th>Result</th>\n",
              "    </tr>\n",
              "  </thead>\n",
              "  <tbody>\n",
              "    <tr>\n",
              "      <th>Hanako</th>\n",
              "      <td>90</td>\n",
              "      <td>80</td>\n",
              "      <td>70</td>\n",
              "      <td>True</td>\n",
              "    </tr>\n",
              "    <tr>\n",
              "      <th>Jiro</th>\n",
              "      <td>70</td>\n",
              "      <td>60</td>\n",
              "      <td>75</td>\n",
              "      <td>True</td>\n",
              "    </tr>\n",
              "    <tr>\n",
              "      <th>Sachiko</th>\n",
              "      <td>40</td>\n",
              "      <td>60</td>\n",
              "      <td>50</td>\n",
              "      <td>False</td>\n",
              "    </tr>\n",
              "    <tr>\n",
              "      <th>Saburo</th>\n",
              "      <td>20</td>\n",
              "      <td>30</td>\n",
              "      <td>40</td>\n",
              "      <td>False</td>\n",
              "    </tr>\n",
              "    <tr>\n",
              "      <th>Yoko</th>\n",
              "      <td>50</td>\n",
              "      <td>20</td>\n",
              "      <td>10</td>\n",
              "      <td>False</td>\n",
              "    </tr>\n",
              "  </tbody>\n",
              "</table>\n",
              "</div>"
            ],
            "text/plain": [
              "         Japanese  English  Math  Result\n",
              "Hanako         90       80    70    True\n",
              "Jiro           70       60    75    True\n",
              "Sachiko        40       60    50   False\n",
              "Saburo         20       30    40   False\n",
              "Yoko           50       20    10   False"
            ]
          },
          "metadata": {
            "tags": []
          },
          "execution_count": 11
        }
      ]
    },
    {
      "cell_type": "markdown",
      "metadata": {
        "id": "hCOjxyxhBXNR",
        "colab_type": "text"
      },
      "source": [
        "　基本的な統計量は、`describe()`で一度に表示することができます。"
      ]
    },
    {
      "cell_type": "code",
      "metadata": {
        "id": "gN09h-5A9IFv",
        "colab_type": "code",
        "colab": {
          "base_uri": "https://localhost:8080/",
          "height": 297
        },
        "outputId": "ea622bdc-d4b1-461b-b5c5-69203e1ec7ea"
      },
      "source": [
        "a.describe()  # 基本的な統計量"
      ],
      "execution_count": 12,
      "outputs": [
        {
          "output_type": "execute_result",
          "data": {
            "text/html": [
              "<div>\n",
              "<style scoped>\n",
              "    .dataframe tbody tr th:only-of-type {\n",
              "        vertical-align: middle;\n",
              "    }\n",
              "\n",
              "    .dataframe tbody tr th {\n",
              "        vertical-align: top;\n",
              "    }\n",
              "\n",
              "    .dataframe thead th {\n",
              "        text-align: right;\n",
              "    }\n",
              "</style>\n",
              "<table border=\"1\" class=\"dataframe\">\n",
              "  <thead>\n",
              "    <tr style=\"text-align: right;\">\n",
              "      <th></th>\n",
              "      <th>Japanese</th>\n",
              "      <th>English</th>\n",
              "      <th>Math</th>\n",
              "    </tr>\n",
              "  </thead>\n",
              "  <tbody>\n",
              "    <tr>\n",
              "      <th>count</th>\n",
              "      <td>6.000000</td>\n",
              "      <td>6.000000</td>\n",
              "      <td>6.000000</td>\n",
              "    </tr>\n",
              "    <tr>\n",
              "      <th>mean</th>\n",
              "      <td>58.333333</td>\n",
              "      <td>51.666667</td>\n",
              "      <td>52.500000</td>\n",
              "    </tr>\n",
              "    <tr>\n",
              "      <th>std</th>\n",
              "      <td>26.394444</td>\n",
              "      <td>22.286020</td>\n",
              "      <td>24.849547</td>\n",
              "    </tr>\n",
              "    <tr>\n",
              "      <th>min</th>\n",
              "      <td>20.000000</td>\n",
              "      <td>20.000000</td>\n",
              "      <td>10.000000</td>\n",
              "    </tr>\n",
              "    <tr>\n",
              "      <th>25%</th>\n",
              "      <td>42.500000</td>\n",
              "      <td>37.500000</td>\n",
              "      <td>42.500000</td>\n",
              "    </tr>\n",
              "    <tr>\n",
              "      <th>50%</th>\n",
              "      <td>60.000000</td>\n",
              "      <td>60.000000</td>\n",
              "      <td>60.000000</td>\n",
              "    </tr>\n",
              "    <tr>\n",
              "      <th>75%</th>\n",
              "      <td>77.500000</td>\n",
              "      <td>60.000000</td>\n",
              "      <td>70.000000</td>\n",
              "    </tr>\n",
              "    <tr>\n",
              "      <th>max</th>\n",
              "      <td>90.000000</td>\n",
              "      <td>80.000000</td>\n",
              "      <td>75.000000</td>\n",
              "    </tr>\n",
              "  </tbody>\n",
              "</table>\n",
              "</div>"
            ],
            "text/plain": [
              "        Japanese    English       Math\n",
              "count   6.000000   6.000000   6.000000\n",
              "mean   58.333333  51.666667  52.500000\n",
              "std    26.394444  22.286020  24.849547\n",
              "min    20.000000  20.000000  10.000000\n",
              "25%    42.500000  37.500000  42.500000\n",
              "50%    60.000000  60.000000  60.000000\n",
              "75%    77.500000  60.000000  70.000000\n",
              "max    90.000000  80.000000  75.000000"
            ]
          },
          "metadata": {
            "tags": []
          },
          "execution_count": 12
        }
      ]
    },
    {
      "cell_type": "markdown",
      "metadata": {
        "id": "bTVNyEvsELv-",
        "colab_type": "text"
      },
      "source": [
        "これらの値は、`mean()`や`max()`などのメソッドで個別に取得することもできます。"
      ]
    },
    {
      "cell_type": "markdown",
      "metadata": {
        "id": "7MSjXvYCH3Hp",
        "colab_type": "text"
      },
      "source": [
        "## ●DataFrameの操作  \n",
        "インデックスやラベルを使って、DataFrameのデータの操作を行うことができます。  \n",
        "以下のコードでは、`loc()`メソッドを使って範囲を指定し、Seriesデータを取り出しています。"
      ]
    },
    {
      "cell_type": "code",
      "metadata": {
        "id": "mUK-yMCd_8A7",
        "colab_type": "code",
        "colab": {
          "base_uri": "https://localhost:8080/",
          "height": 119
        },
        "outputId": "b9fd5659-f294-4d50-e7d4-e32e0ead28f3"
      },
      "source": [
        "tr = a.loc[\"Taro\", :]  # 一行取り出す\n",
        "print(type(tr))\n",
        "tr"
      ],
      "execution_count": 13,
      "outputs": [
        {
          "output_type": "stream",
          "text": [
            "<class 'pandas.core.series.Series'>\n"
          ],
          "name": "stdout"
        },
        {
          "output_type": "execute_result",
          "data": {
            "text/plain": [
              "Japanese      80\n",
              "English       60\n",
              "Math          70\n",
              "Result      True\n",
              "Name: Taro, dtype: object"
            ]
          },
          "metadata": {
            "tags": []
          },
          "execution_count": 13
        }
      ]
    },
    {
      "cell_type": "markdown",
      "metadata": {
        "id": "7n5YQepkDny2",
        "colab_type": "text"
      },
      "source": [
        "取り出した行の型がSeriesになっていることが確認できますね。  \n",
        "同様にして、DataFrameから列を取り出すこともできます。"
      ]
    },
    {
      "cell_type": "code",
      "metadata": {
        "id": "U6G4tUSSQPal",
        "colab_type": "code",
        "colab": {
          "base_uri": "https://localhost:8080/",
          "height": 153
        },
        "outputId": "8b0fc3b4-0c05-45fa-8f5c-c89ec35c3a16"
      },
      "source": [
        "ma = a.loc[:, \"English\"]  # 一列取り出す\n",
        "print(type(ma))\n",
        "ma"
      ],
      "execution_count": 14,
      "outputs": [
        {
          "output_type": "stream",
          "text": [
            "<class 'pandas.core.series.Series'>\n"
          ],
          "name": "stdout"
        },
        {
          "output_type": "execute_result",
          "data": {
            "text/plain": [
              "Taro       60\n",
              "Hanako     80\n",
              "Jiro       60\n",
              "Sachiko    60\n",
              "Saburo     30\n",
              "Yoko       20\n",
              "Name: English, dtype: int64"
            ]
          },
          "metadata": {
            "tags": []
          },
          "execution_count": 14
        }
      ]
    },
    {
      "cell_type": "markdown",
      "metadata": {
        "id": "-5CAPT2OEd8J",
        "colab_type": "text"
      },
      "source": [
        "こちらもSeries型ですね。  \n",
        "`iloc`を使えばインデックスにより範囲を指定することも可能です。"
      ]
    },
    {
      "cell_type": "code",
      "metadata": {
        "id": "nW8SR2UZEbg_",
        "colab_type": "code",
        "colab": {
          "base_uri": "https://localhost:8080/",
          "height": 159
        },
        "outputId": "fb9761f3-81b8-41e5-c3f5-32a329d012d3"
      },
      "source": [
        "r = a.iloc[1:4, :2]  # 行:1-3、列:0-1\n",
        "print(type(r))\n",
        "r"
      ],
      "execution_count": 15,
      "outputs": [
        {
          "output_type": "stream",
          "text": [
            "<class 'pandas.core.frame.DataFrame'>\n"
          ],
          "name": "stdout"
        },
        {
          "output_type": "execute_result",
          "data": {
            "text/html": [
              "<div>\n",
              "<style scoped>\n",
              "    .dataframe tbody tr th:only-of-type {\n",
              "        vertical-align: middle;\n",
              "    }\n",
              "\n",
              "    .dataframe tbody tr th {\n",
              "        vertical-align: top;\n",
              "    }\n",
              "\n",
              "    .dataframe thead th {\n",
              "        text-align: right;\n",
              "    }\n",
              "</style>\n",
              "<table border=\"1\" class=\"dataframe\">\n",
              "  <thead>\n",
              "    <tr style=\"text-align: right;\">\n",
              "      <th></th>\n",
              "      <th>Japanese</th>\n",
              "      <th>English</th>\n",
              "    </tr>\n",
              "  </thead>\n",
              "  <tbody>\n",
              "    <tr>\n",
              "      <th>Hanako</th>\n",
              "      <td>90</td>\n",
              "      <td>80</td>\n",
              "    </tr>\n",
              "    <tr>\n",
              "      <th>Jiro</th>\n",
              "      <td>70</td>\n",
              "      <td>60</td>\n",
              "    </tr>\n",
              "    <tr>\n",
              "      <th>Sachiko</th>\n",
              "      <td>40</td>\n",
              "      <td>60</td>\n",
              "    </tr>\n",
              "  </tbody>\n",
              "</table>\n",
              "</div>"
            ],
            "text/plain": [
              "         Japanese  English\n",
              "Hanako         90       80\n",
              "Jiro           70       60\n",
              "Sachiko        40       60"
            ]
          },
          "metadata": {
            "tags": []
          },
          "execution_count": 15
        }
      ]
    },
    {
      "cell_type": "markdown",
      "metadata": {
        "id": "kit0y2IIIc7f",
        "colab_type": "text"
      },
      "source": [
        "`loc()`メソッドにより、行を追加することができます。"
      ]
    },
    {
      "cell_type": "code",
      "metadata": {
        "id": "d2u1ZIIgFYWe",
        "colab_type": "code",
        "colab": {
          "base_uri": "https://localhost:8080/",
          "height": 266
        },
        "outputId": "92311c0c-3eab-46ad-bb67-2d304eacd133"
      },
      "source": [
        "a.loc[\"Shiro\"] = pd.Series([70, 80, 70, True], index=[\"Japanese\", \"English\", \"Math\", \"Result\"], name=\"Shiro\")  # Seriesを行として追加\n",
        "a"
      ],
      "execution_count": 16,
      "outputs": [
        {
          "output_type": "execute_result",
          "data": {
            "text/html": [
              "<div>\n",
              "<style scoped>\n",
              "    .dataframe tbody tr th:only-of-type {\n",
              "        vertical-align: middle;\n",
              "    }\n",
              "\n",
              "    .dataframe tbody tr th {\n",
              "        vertical-align: top;\n",
              "    }\n",
              "\n",
              "    .dataframe thead th {\n",
              "        text-align: right;\n",
              "    }\n",
              "</style>\n",
              "<table border=\"1\" class=\"dataframe\">\n",
              "  <thead>\n",
              "    <tr style=\"text-align: right;\">\n",
              "      <th></th>\n",
              "      <th>Japanese</th>\n",
              "      <th>English</th>\n",
              "      <th>Math</th>\n",
              "      <th>Result</th>\n",
              "    </tr>\n",
              "  </thead>\n",
              "  <tbody>\n",
              "    <tr>\n",
              "      <th>Taro</th>\n",
              "      <td>80</td>\n",
              "      <td>60</td>\n",
              "      <td>70</td>\n",
              "      <td>True</td>\n",
              "    </tr>\n",
              "    <tr>\n",
              "      <th>Hanako</th>\n",
              "      <td>90</td>\n",
              "      <td>80</td>\n",
              "      <td>70</td>\n",
              "      <td>True</td>\n",
              "    </tr>\n",
              "    <tr>\n",
              "      <th>Jiro</th>\n",
              "      <td>70</td>\n",
              "      <td>60</td>\n",
              "      <td>75</td>\n",
              "      <td>True</td>\n",
              "    </tr>\n",
              "    <tr>\n",
              "      <th>Sachiko</th>\n",
              "      <td>40</td>\n",
              "      <td>60</td>\n",
              "      <td>50</td>\n",
              "      <td>False</td>\n",
              "    </tr>\n",
              "    <tr>\n",
              "      <th>Saburo</th>\n",
              "      <td>20</td>\n",
              "      <td>30</td>\n",
              "      <td>40</td>\n",
              "      <td>False</td>\n",
              "    </tr>\n",
              "    <tr>\n",
              "      <th>Yoko</th>\n",
              "      <td>50</td>\n",
              "      <td>20</td>\n",
              "      <td>10</td>\n",
              "      <td>False</td>\n",
              "    </tr>\n",
              "    <tr>\n",
              "      <th>Shiro</th>\n",
              "      <td>70</td>\n",
              "      <td>80</td>\n",
              "      <td>70</td>\n",
              "      <td>True</td>\n",
              "    </tr>\n",
              "  </tbody>\n",
              "</table>\n",
              "</div>"
            ],
            "text/plain": [
              "         Japanese  English  Math  Result\n",
              "Taro           80       60    70    True\n",
              "Hanako         90       80    70    True\n",
              "Jiro           70       60    75    True\n",
              "Sachiko        40       60    50   False\n",
              "Saburo         20       30    40   False\n",
              "Yoko           50       20    10   False\n",
              "Shiro          70       80    70    True"
            ]
          },
          "metadata": {
            "tags": []
          },
          "execution_count": 16
        }
      ]
    },
    {
      "cell_type": "markdown",
      "metadata": {
        "id": "rGYduDSUPI7L",
        "colab_type": "text"
      },
      "source": [
        "列のラベルを指定し、列を追加することができます。"
      ]
    },
    {
      "cell_type": "code",
      "metadata": {
        "id": "jHAuYpSKIbsF",
        "colab_type": "code",
        "colab": {
          "base_uri": "https://localhost:8080/",
          "height": 266
        },
        "outputId": "24196f7c-a21b-4534-ff54-e09e39ae82e9"
      },
      "source": [
        "a[\"Science\"] = [80, 70, 60, 50, 60, 40, 80]  # 列をリストとして追加\n",
        "a"
      ],
      "execution_count": 17,
      "outputs": [
        {
          "output_type": "execute_result",
          "data": {
            "text/html": [
              "<div>\n",
              "<style scoped>\n",
              "    .dataframe tbody tr th:only-of-type {\n",
              "        vertical-align: middle;\n",
              "    }\n",
              "\n",
              "    .dataframe tbody tr th {\n",
              "        vertical-align: top;\n",
              "    }\n",
              "\n",
              "    .dataframe thead th {\n",
              "        text-align: right;\n",
              "    }\n",
              "</style>\n",
              "<table border=\"1\" class=\"dataframe\">\n",
              "  <thead>\n",
              "    <tr style=\"text-align: right;\">\n",
              "      <th></th>\n",
              "      <th>Japanese</th>\n",
              "      <th>English</th>\n",
              "      <th>Math</th>\n",
              "      <th>Result</th>\n",
              "      <th>Science</th>\n",
              "    </tr>\n",
              "  </thead>\n",
              "  <tbody>\n",
              "    <tr>\n",
              "      <th>Taro</th>\n",
              "      <td>80</td>\n",
              "      <td>60</td>\n",
              "      <td>70</td>\n",
              "      <td>True</td>\n",
              "      <td>80</td>\n",
              "    </tr>\n",
              "    <tr>\n",
              "      <th>Hanako</th>\n",
              "      <td>90</td>\n",
              "      <td>80</td>\n",
              "      <td>70</td>\n",
              "      <td>True</td>\n",
              "      <td>70</td>\n",
              "    </tr>\n",
              "    <tr>\n",
              "      <th>Jiro</th>\n",
              "      <td>70</td>\n",
              "      <td>60</td>\n",
              "      <td>75</td>\n",
              "      <td>True</td>\n",
              "      <td>60</td>\n",
              "    </tr>\n",
              "    <tr>\n",
              "      <th>Sachiko</th>\n",
              "      <td>40</td>\n",
              "      <td>60</td>\n",
              "      <td>50</td>\n",
              "      <td>False</td>\n",
              "      <td>50</td>\n",
              "    </tr>\n",
              "    <tr>\n",
              "      <th>Saburo</th>\n",
              "      <td>20</td>\n",
              "      <td>30</td>\n",
              "      <td>40</td>\n",
              "      <td>False</td>\n",
              "      <td>60</td>\n",
              "    </tr>\n",
              "    <tr>\n",
              "      <th>Yoko</th>\n",
              "      <td>50</td>\n",
              "      <td>20</td>\n",
              "      <td>10</td>\n",
              "      <td>False</td>\n",
              "      <td>40</td>\n",
              "    </tr>\n",
              "    <tr>\n",
              "      <th>Shiro</th>\n",
              "      <td>70</td>\n",
              "      <td>80</td>\n",
              "      <td>70</td>\n",
              "      <td>True</td>\n",
              "      <td>80</td>\n",
              "    </tr>\n",
              "  </tbody>\n",
              "</table>\n",
              "</div>"
            ],
            "text/plain": [
              "         Japanese  English  Math  Result  Science\n",
              "Taro           80       60    70    True       80\n",
              "Hanako         90       80    70    True       70\n",
              "Jiro           70       60    75    True       60\n",
              "Sachiko        40       60    50   False       50\n",
              "Saburo         20       30    40   False       60\n",
              "Yoko           50       20    10   False       40\n",
              "Shiro          70       80    70    True       80"
            ]
          },
          "metadata": {
            "tags": []
          },
          "execution_count": 17
        }
      ]
    },
    {
      "cell_type": "markdown",
      "metadata": {
        "id": "zdiKjWtbWD3l",
        "colab_type": "text"
      },
      "source": [
        "`sort_values`メソッドにより、DataFrameをソートすることができます。"
      ]
    },
    {
      "cell_type": "code",
      "metadata": {
        "id": "5G-S_aYqPHZX",
        "colab_type": "code",
        "colab": {
          "base_uri": "https://localhost:8080/",
          "height": 266
        },
        "outputId": "35734bd3-874b-4437-903c-3fde74972383"
      },
      "source": [
        "a.sort_values(by=\"Math\",ascending=False)"
      ],
      "execution_count": 18,
      "outputs": [
        {
          "output_type": "execute_result",
          "data": {
            "text/html": [
              "<div>\n",
              "<style scoped>\n",
              "    .dataframe tbody tr th:only-of-type {\n",
              "        vertical-align: middle;\n",
              "    }\n",
              "\n",
              "    .dataframe tbody tr th {\n",
              "        vertical-align: top;\n",
              "    }\n",
              "\n",
              "    .dataframe thead th {\n",
              "        text-align: right;\n",
              "    }\n",
              "</style>\n",
              "<table border=\"1\" class=\"dataframe\">\n",
              "  <thead>\n",
              "    <tr style=\"text-align: right;\">\n",
              "      <th></th>\n",
              "      <th>Japanese</th>\n",
              "      <th>English</th>\n",
              "      <th>Math</th>\n",
              "      <th>Result</th>\n",
              "      <th>Science</th>\n",
              "    </tr>\n",
              "  </thead>\n",
              "  <tbody>\n",
              "    <tr>\n",
              "      <th>Jiro</th>\n",
              "      <td>70</td>\n",
              "      <td>60</td>\n",
              "      <td>75</td>\n",
              "      <td>True</td>\n",
              "      <td>60</td>\n",
              "    </tr>\n",
              "    <tr>\n",
              "      <th>Taro</th>\n",
              "      <td>80</td>\n",
              "      <td>60</td>\n",
              "      <td>70</td>\n",
              "      <td>True</td>\n",
              "      <td>80</td>\n",
              "    </tr>\n",
              "    <tr>\n",
              "      <th>Hanako</th>\n",
              "      <td>90</td>\n",
              "      <td>80</td>\n",
              "      <td>70</td>\n",
              "      <td>True</td>\n",
              "      <td>70</td>\n",
              "    </tr>\n",
              "    <tr>\n",
              "      <th>Shiro</th>\n",
              "      <td>70</td>\n",
              "      <td>80</td>\n",
              "      <td>70</td>\n",
              "      <td>True</td>\n",
              "      <td>80</td>\n",
              "    </tr>\n",
              "    <tr>\n",
              "      <th>Sachiko</th>\n",
              "      <td>40</td>\n",
              "      <td>60</td>\n",
              "      <td>50</td>\n",
              "      <td>False</td>\n",
              "      <td>50</td>\n",
              "    </tr>\n",
              "    <tr>\n",
              "      <th>Saburo</th>\n",
              "      <td>20</td>\n",
              "      <td>30</td>\n",
              "      <td>40</td>\n",
              "      <td>False</td>\n",
              "      <td>60</td>\n",
              "    </tr>\n",
              "    <tr>\n",
              "      <th>Yoko</th>\n",
              "      <td>50</td>\n",
              "      <td>20</td>\n",
              "      <td>10</td>\n",
              "      <td>False</td>\n",
              "      <td>40</td>\n",
              "    </tr>\n",
              "  </tbody>\n",
              "</table>\n",
              "</div>"
            ],
            "text/plain": [
              "         Japanese  English  Math  Result  Science\n",
              "Jiro           70       60    75    True       60\n",
              "Taro           80       60    70    True       80\n",
              "Hanako         90       80    70    True       70\n",
              "Shiro          70       80    70    True       80\n",
              "Sachiko        40       60    50   False       50\n",
              "Saburo         20       30    40   False       60\n",
              "Yoko           50       20    10   False       40"
            ]
          },
          "metadata": {
            "tags": []
          },
          "execution_count": 18
        }
      ]
    },
    {
      "cell_type": "markdown",
      "metadata": {
        "id": "pCKi7UNEXofI",
        "colab_type": "text"
      },
      "source": [
        "他にも、DataFrameにはデータの削除や変更、DataFrame同士の結合など様々な機能があります。  \n",
        "もちろん、条件を詳しく絞ってデータを抽出することも可能です。  \n",
        "さらに詳しく知りたい方は、公式ドキュメントなどを参考にしましょう。  \n",
        "https://pandas.pydata.org/pandas-docs/stable/index.html"
      ]
    }
  ]
}