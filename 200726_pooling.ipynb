{
  "nbformat": 4,
  "nbformat_minor": 0,
  "metadata": {
    "colab": {
      "name": "200726-pooling.ipynb",
      "provenance": [],
      "collapsed_sections": [],
      "include_colab_link": true
    },
    "kernelspec": {
      "name": "python3",
      "display_name": "Python 3"
    }
  },
  "cells": [
    {
      "cell_type": "markdown",
      "metadata": {
        "id": "view-in-github",
        "colab_type": "text"
      },
      "source": [
        "<a href=\"https://colab.research.google.com/github/taji99/python_basic/blob/master/200726_pooling.ipynb\" target=\"_parent\"><img src=\"https://colab.research.google.com/assets/colab-badge.svg\" alt=\"Open In Colab\"/></a>"
      ]
    },
    {
      "cell_type": "markdown",
      "metadata": {
        "id": "zCT6QD3F57HO",
        "colab_type": "text"
      },
      "source": [
        "# ●プーリングの実装\n",
        "im2colを使ってプーリングを実装します。"
      ]
    },
    {
      "cell_type": "markdown",
      "metadata": {
        "id": "9VxoPcUXrnDI",
        "colab_type": "text"
      },
      "source": [
        "## ●プーリングの実装\n",
        "im2colを使って、プーリングを実装します。  \n",
        "今回は、scikit-learnから手書き文字の画像を読み込み、畳み込みを行います。"
      ]
    },
    {
      "cell_type": "code",
      "metadata": {
        "id": "76iCvTtR54OH",
        "colab_type": "code",
        "colab": {
          "base_uri": "https://localhost:8080/",
          "height": 282
        },
        "outputId": "63797cec-d728-481d-fd4e-4e7a339ec7a4"
      },
      "source": [
        "import numpy as np\n",
        "import matplotlib.pyplot as plt \n",
        "from sklearn import datasets\n",
        "\n",
        "digits = datasets.load_digits()\n",
        "print(digits.data.shape)\n",
        "\n",
        "image = digits.data[0].reshape(8, 8)\n",
        "plt.imshow(image, cmap=\"gray\")\n",
        "plt.show() "
      ],
      "execution_count": 1,
      "outputs": [
        {
          "output_type": "stream",
          "text": [
            "(1797, 64)\n"
          ],
          "name": "stdout"
        },
        {
          "output_type": "display_data",
          "data": {
            "image/png": "[encoded data removed]",
            "text/plain": [
              "<Figure size 432x288 with 1 Axes>"
            ]
          },
          "metadata": {
            "tags": [],
            "needs_background": "light"
          }
        }
      ]
    },
    {
      "cell_type": "markdown",
      "metadata": {
        "id": "ImovKOU0u1Jf",
        "colab_type": "text"
      },
      "source": [
        "今回は、以下のストライドを導入したim2colの関数を使います。  \n",
        "フィルタがかかる領域は、今回はプーリングの領域となります。  "
      ]
    },
    {
      "cell_type": "code",
      "metadata": {
        "id": "sxe9h1VZ5-he",
        "colab_type": "code",
        "colab": {}
      },
      "source": [
        "def im2col(img, flt_h, flt_w, out_h, out_w, stride):  # 入力画像、プーリング領域の高さ、幅、出力画像の高さ、幅、ストライド\n",
        "\n",
        "    cols = np.zeros((flt_h*flt_w, out_h*out_w)) # 生成される行列のサイズ\n",
        "\n",
        "    for h in range(out_h):\n",
        "        h_lim = stride*h + flt_h  # h:プーリング領域の上端、h_lim:プーリング領域の下端\n",
        "        for w in range(out_w):\n",
        "            w_lim = stride*w + flt_w  # w:プーリング領域の左端、w_lim:プーリング領域の右端\n",
        "            cols[:, h*out_w+w] = img[stride*h:h_lim, stride*w:w_lim].reshape(-1)\n",
        "\n",
        "    return cols"
      ],
      "execution_count": 2,
      "outputs": []
    },
    {
      "cell_type": "markdown",
      "metadata": {
        "id": "dJ_xtTC4vJM5",
        "colab_type": "text"
      },
      "source": [
        "im2colで画像を行列に変換し、フィルタとの行列積によりプーリングを行います。"
      ]
    },
    {
      "cell_type": "code",
      "metadata": {
        "id": "99xuMeZ6vOTv",
        "colab_type": "code",
        "colab": {
          "base_uri": "https://localhost:8080/",
          "height": 269
        },
        "outputId": "6b74819c-b75f-46f0-eead-a7f995447a4d"
      },
      "source": [
        "img_h, img_w = image.shape  # 入力画像の高さ、幅\n",
        "pool = 2  # プーリング領域のサイズ\n",
        "\n",
        "out_h = img_h//pool  # 出力画像の高さ\n",
        "out_w = img_w//pool  # 出力画像の幅\n",
        "\n",
        "cols = im2col(image, pool, pool, out_h, out_w, pool)\n",
        "image_out = np.max(cols, axis=0)  # Maxプーリング\n",
        "image_out = image_out.reshape(out_h, out_w)\n",
        "\n",
        "plt.imshow(image_out, cmap=\"gray\")\n",
        "plt.show() "
      ],
      "execution_count": 3,
      "outputs": [
        {
          "output_type": "display_data",
          "data": {
            "image/png": "[encoded data removed]",
            "text/plain": [
              "<Figure size 432x288 with 1 Axes>"
            ]
          },
          "metadata": {
            "tags": [],
            "needs_background": "light"
          }
        }
      ]
    },
    {
      "cell_type": "markdown",
      "metadata": {
        "id": "z4dA4CwyaGkB",
        "colab_type": "text"
      },
      "source": [
        "各2x2の領域の最大値が抽出され、新たな画像となりました。  \n",
        "8x8の画像が、4x4の画像に変換されたことになります。 \n"
      ]
    }
  ]
}