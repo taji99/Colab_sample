{
  "nbformat": 4,
  "nbformat_minor": 0,
  "metadata": {
    "colab": {
      "name": "200729-autoencoder.ipynb",
      "provenance": [],
      "collapsed_sections": [],
      "include_colab_link": true
    },
    "kernelspec": {
      "name": "python3",
      "display_name": "Python 3"
    }
  },
  "cells": [
    {
      "cell_type": "markdown",
      "metadata": {
        "id": "view-in-github",
        "colab_type": "text"
      },
      "source": [
        "<a href=\"https://colab.research.google.com/github/taji99/python_basic/blob/master/200729_autoencoder.ipynb\" target=\"_parent\"><img src=\"https://colab.research.google.com/assets/colab-badge.svg\" alt=\"Open In Colab\"/></a>"
      ]
    },
    {
      "cell_type": "markdown",
      "metadata": {
        "id": "K74mqS_L8nq4",
        "colab_type": "text"
      },
      "source": [
        "# オートエンコーダの実装\n",
        "オートエンコーダ（自己符号器）を実装します。  \n",
        "Encoderで中間層に画像を圧縮した後に、Decoderで元の画像を再構築しましょう。"
      ]
    },
    {
      "cell_type": "markdown",
      "metadata": {
        "id": "AAYDnNlPJ46Z",
        "colab_type": "text"
      },
      "source": [
        "## 訓練用データの用意\n",
        "オートエンコーダに用いる訓練用のデータを用意します。  \n",
        "MNIST（手書き文字）のデータを読み込み、表示します。"
      ]
    },
    {
      "cell_type": "code",
      "metadata": {
        "id": "EcKpe2k38bax",
        "colab_type": "code",
        "colab": {
          "base_uri": "https://localhost:8080/",
          "height": 366
        },
        "outputId": "acdb145b-770e-416c-a5bc-620ba4a5c4c9"
      },
      "source": [
        "import numpy as np\n",
        "import matplotlib.pyplot as plt \n",
        "from keras.datasets import mnist\n",
        "\n",
        "(x_train, t_train), (x_test, t_test) = mnist.load_data()  # MNISTの読み込み\n",
        "print(x_train.shape, x_test.shape)  # 28x28の手書き文字画像が6万枚\n",
        "\n",
        "# 各ピクセルの値を0-1の範囲に収める\n",
        "x_train = x_train / 255\n",
        "x_test = x_test / 255\n",
        "\n",
        "# 手書き文字画像の表示\n",
        "plt.imshow(x_train[0].reshape(28, 28), cmap=\"gray\")\n",
        "plt.title(t_train[0])\n",
        "plt.show() \n",
        "\n",
        "# 一次元に変換する\n",
        "x_train = x_train.reshape(x_train.shape[0], -1)\n",
        "x_test = x_test.reshape(x_test.shape[0], -1)\n",
        "print(x_train.shape, x_test.shape)"
      ],
      "execution_count": 1,
      "outputs": [
        {
          "output_type": "stream",
          "text": [
            "Using TensorFlow backend.\n"
          ],
          "name": "stderr"
        },
        {
          "output_type": "stream",
          "text": [
            "Downloading data from https://s3.amazonaws.com/img-datasets/mnist.npz\n",
            "11493376/11490434 [==============================] - 0s 0us/step\n",
            "(60000, 28, 28) (10000, 28, 28)\n"
          ],
          "name": "stdout"
        },
        {
          "output_type": "display_data",
          "data": {
            "image/png": "[encoded data removed]",
            "text/plain": [
              "<Figure size 432x288 with 1 Axes>"
            ]
          },
          "metadata": {
            "tags": [],
            "needs_background": "light"
          }
        },
        {
          "output_type": "stream",
          "text": [
            "(60000, 784) (10000, 784)\n"
          ],
          "name": "stdout"
        }
      ]
    },
    {
      "cell_type": "markdown",
      "metadata": {
        "id": "3is6apnw8SIr",
        "colab_type": "text"
      },
      "source": [
        "## オートエンコーダの各設定\n",
        "オートエンコーダに必要な各設定を行います。"
      ]
    },
    {
      "cell_type": "code",
      "metadata": {
        "id": "n6Ts3siI8awo",
        "colab_type": "code",
        "colab": {}
      },
      "source": [
        "epochs = 20  \n",
        "batch_size = 128\n",
        "n_in_out = 784  # 入出力層のニューロン数\n",
        "n_mid = 64  # 中間層のニューロン数"
      ],
      "execution_count": 2,
      "outputs": []
    },
    {
      "cell_type": "markdown",
      "metadata": {
        "id": "QdzmlSE_w7bD",
        "colab_type": "text"
      },
      "source": [
        " ## モデルの構築\n",
        " Kerasによりオートエンコーダのモデルを構築します。  \n",
        " Encoder、Decoderの順に層を重ねます。"
      ]
    },
    {
      "cell_type": "code",
      "metadata": {
        "id": "Ql5XWTfVWghn",
        "colab_type": "code",
        "colab": {
          "base_uri": "https://localhost:8080/",
          "height": 255
        },
        "outputId": "5f82907d-b438-456b-e788-6e6aed9c95a6"
      },
      "source": [
        "from keras.models import Model\n",
        "from keras.layers import Input, Dense\n",
        "\n",
        "# オートエンコーダのネットワーク構築\n",
        "x = Input(shape=(n_in_out,))\n",
        "h = Dense(n_mid, activation=\"relu\")(x)  # Encoder\n",
        "decoder = Dense(n_in_out, activation=\"sigmoid\")  #Decoder 後ほど再利用\n",
        "y = decoder(h)\n",
        "\n",
        "# オートエンコーダのモデルを作成\n",
        "model_autoencoder = Model(x, y)\n",
        "model_autoencoder.compile(optimizer=\"adadelta\", loss=\"binary_crossentropy\")\n",
        "model_autoencoder.summary()\n",
        "\n",
        "# Encoderのみのモデル\n",
        "model_encoder = Model(x, h)\n",
        "\n",
        "# Decoderのみのモデル\n",
        "input_decoder = Input(shape=(n_mid,))\n",
        "model_decoder = Model(input_decoder, decoder(input_decoder))"
      ],
      "execution_count": 3,
      "outputs": [
        {
          "output_type": "stream",
          "text": [
            "Model: \"model_1\"\n",
            "_________________________________________________________________\n",
            "Layer (type)                 Output Shape              Param #   \n",
            "=================================================================\n",
            "input_1 (InputLayer)         (None, 784)               0         \n",
            "_________________________________________________________________\n",
            "dense_1 (Dense)              (None, 64)                50240     \n",
            "_________________________________________________________________\n",
            "dense_2 (Dense)              (None, 784)               50960     \n",
            "=================================================================\n",
            "Total params: 101,200\n",
            "Trainable params: 101,200\n",
            "Non-trainable params: 0\n",
            "_________________________________________________________________\n"
          ],
          "name": "stdout"
        }
      ]
    },
    {
      "cell_type": "markdown",
      "metadata": {
        "id": "g1p6KSIjkP7u",
        "colab_type": "text"
      },
      "source": [
        "## 学習\n",
        "構築したオートエンコーダのモデルを使って、学習を行います。  \n",
        "入力を再現するように学習するので、正解は入力そのものになります。"
      ]
    },
    {
      "cell_type": "code",
      "metadata": {
        "id": "RNKvkX9x2Cma",
        "colab_type": "code",
        "colab": {
          "base_uri": "https://localhost:8080/",
          "height": 731
        },
        "outputId": "d87eaa60-5c31-4ca9-fa44-7536018ca322"
      },
      "source": [
        "model_autoencoder.fit(x_train, x_train,\n",
        "                      shuffle=True,\n",
        "                      epochs=epochs,\n",
        "                      batch_size=batch_size,\n",
        "                      validation_data=(x_test, x_test))"
      ],
      "execution_count": 4,
      "outputs": [
        {
          "output_type": "stream",
          "text": [
            "Train on 60000 samples, validate on 10000 samples\n",
            "Epoch 1/20\n",
            "60000/60000 [==============================] - 4s 69us/step - loss: 0.3006 - val_loss: 0.2412\n",
            "Epoch 2/20\n",
            "60000/60000 [==============================] - 4s 64us/step - loss: 0.2205 - val_loss: 0.2010\n",
            "Epoch 3/20\n",
            "60000/60000 [==============================] - 4s 65us/step - loss: 0.1911 - val_loss: 0.1802\n",
            "Epoch 4/20\n",
            "60000/60000 [==============================] - 4s 63us/step - loss: 0.1743 - val_loss: 0.1663\n",
            "Epoch 5/20\n",
            "60000/60000 [==============================] - 4s 66us/step - loss: 0.1622 - val_loss: 0.1556\n",
            "Epoch 6/20\n",
            "60000/60000 [==============================] - 4s 63us/step - loss: 0.1526 - val_loss: 0.1469\n",
            "Epoch 7/20\n",
            "60000/60000 [==============================] - 4s 63us/step - loss: 0.1446 - val_loss: 0.1395\n",
            "Epoch 8/20\n",
            "60000/60000 [==============================] - 4s 63us/step - loss: 0.1379 - val_loss: 0.1334\n",
            "Epoch 9/20\n",
            "60000/60000 [==============================] - 4s 65us/step - loss: 0.1321 - val_loss: 0.1279\n",
            "Epoch 10/20\n",
            "60000/60000 [==============================] - 4s 65us/step - loss: 0.1270 - val_loss: 0.1231\n",
            "Epoch 11/20\n",
            "60000/60000 [==============================] - 4s 64us/step - loss: 0.1224 - val_loss: 0.1187\n",
            "Epoch 12/20\n",
            "60000/60000 [==============================] - 4s 64us/step - loss: 0.1182 - val_loss: 0.1148\n",
            "Epoch 13/20\n",
            "60000/60000 [==============================] - 4s 65us/step - loss: 0.1144 - val_loss: 0.1111\n",
            "Epoch 14/20\n",
            "60000/60000 [==============================] - 4s 65us/step - loss: 0.1111 - val_loss: 0.1080\n",
            "Epoch 15/20\n",
            "60000/60000 [==============================] - 4s 66us/step - loss: 0.1081 - val_loss: 0.1052\n",
            "Epoch 16/20\n",
            "60000/60000 [==============================] - 4s 65us/step - loss: 0.1055 - val_loss: 0.1028\n",
            "Epoch 17/20\n",
            "60000/60000 [==============================] - 4s 65us/step - loss: 0.1033 - val_loss: 0.1007\n",
            "Epoch 18/20\n",
            "60000/60000 [==============================] - 4s 69us/step - loss: 0.1013 - val_loss: 0.0989\n",
            "Epoch 19/20\n",
            "60000/60000 [==============================] - 4s 70us/step - loss: 0.0996 - val_loss: 0.0973\n",
            "Epoch 20/20\n",
            "60000/60000 [==============================] - 4s 68us/step - loss: 0.0981 - val_loss: 0.0959\n"
          ],
          "name": "stdout"
        },
        {
          "output_type": "execute_result",
          "data": {
            "text/plain": [
              "<keras.callbacks.callbacks.History at 0x7fe425479390>"
            ]
          },
          "metadata": {
            "tags": []
          },
          "execution_count": 4
        }
      ]
    },
    {
      "cell_type": "markdown",
      "metadata": {
        "id": "yjeua4AOkebA",
        "colab_type": "text"
      },
      "source": [
        "## 生成結果\n",
        "入力画像と生成画像を比較します。  \n",
        "また、中間層の出力も画像に変換し可視化します。"
      ]
    },
    {
      "cell_type": "code",
      "metadata": {
        "id": "QtGpxQGz5OxB",
        "colab_type": "code",
        "colab": {
          "base_uri": "https://localhost:8080/",
          "height": 252
        },
        "outputId": "3dcfbb27-e877-4fc2-abed-17de50bf684d"
      },
      "source": [
        "encoded = model_encoder.predict(x_test)\n",
        "decoded = model_decoder.predict(encoded)\n",
        "\n",
        "n = 8  # 表示する画像の数\n",
        "plt.figure(figsize=(16, 4))\n",
        "for i in range(n):\n",
        "    # 入力画像\n",
        "    ax = plt.subplot(3, n, i+1)\n",
        "    plt.imshow(x_test[i].reshape(28, 28), cmap=\"Greys_r\")\n",
        "    ax.get_xaxis().set_visible(False)\n",
        "    ax.get_yaxis().set_visible(False)\n",
        "\n",
        "    # 中間層の出力\n",
        "    ax = plt.subplot(3, n, i+1+n)\n",
        "    plt.imshow(encoded[i].reshape(8,8), cmap=\"Greys_r\") #画像サイズは、中間層のニューロン数に合わせて変更する\n",
        "    ax.get_xaxis().set_visible(False)\n",
        "    ax.get_yaxis().set_visible(False)\n",
        "    \n",
        "    # 出力画像\n",
        "    ax = plt.subplot(3, n, i+1+2*n)\n",
        "    plt.imshow(decoded[i].reshape(28, 28), cmap=\"Greys_r\")\n",
        "    ax.get_xaxis().set_visible(False)\n",
        "    ax.get_yaxis().set_visible(False)\n",
        "\n",
        "plt.show()"
      ],
      "execution_count": 5,
      "outputs": [
        {
          "output_type": "display_data",
          "data": {
            "image/png": "[encoded data removed]",
            "text/plain": [
              "<Figure size 1152x288 with 24 Axes>"
            ]
          },
          "metadata": {
            "tags": [],
            "needs_background": "light"
          }
        }
      ]
    },
    {
      "cell_type": "markdown",
      "metadata": {
        "id": "l4xByaXHpBOh",
        "colab_type": "text"
      },
      "source": [
        "28x28の画像がEncoderにより8x8に圧縮された後、Decoderにより展開されてもとの画像が再構築されました。  \n",
        "展開された画像は多少ぼやけていますが、オートエンコーダにより画像の特徴を少ない変数に圧縮できることが確認できました。"
      ]
    }
  ]
}